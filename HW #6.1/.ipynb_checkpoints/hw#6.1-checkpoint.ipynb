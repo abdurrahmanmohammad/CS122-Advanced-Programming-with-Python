{
 "cells": [
  {
   "cell_type": "markdown",
   "metadata": {},
   "source": [
    "# CS122:  HW 6.1 (Pandas and Case Study)"
   ]
  },
  {
   "cell_type": "markdown",
   "metadata": {},
   "source": [
    "### (10pt) Q1: plot the treand of temperature changes \n",
    "\n",
    "* Repeat the procedue used in lecture \"week.14.case.study.ipynb\" to produce the result similar to the one shown below.\n",
    "* Choose the station that is closest to San Jose wtih latitude, longitude = 37.3382, -121.8863 \n",
    "    * or equivalent (37.3382° N, 121.8863° W)\n",
    "* Display the trend of the (min,max,min) temperature change from 1893 to 2020\n",
    "* Fill in your codes in a single cell below."
   ]
  },
  {
   "cell_type": "code",
   "execution_count": 1,
   "metadata": {},
   "outputs": [
    {
     "ename": "NameError",
     "evalue": "name 'parse_line' is not defined",
     "output_type": "error",
     "traceback": [
      "\u001b[0;31m---------------------------------------------------------------------------\u001b[0m",
      "\u001b[0;31mNameError\u001b[0m                                 Traceback (most recent call last)",
      "\u001b[0;32m<ipython-input-1-a4fdec4144d3>\u001b[0m in \u001b[0;36m<module>\u001b[0;34m\u001b[0m\n\u001b[1;32m     78\u001b[0m \u001b[0;31m# process all weather data\u001b[0m\u001b[0;34m\u001b[0m\u001b[0;34m\u001b[0m\u001b[0;34m\u001b[0m\u001b[0m\n\u001b[1;32m     79\u001b[0m \u001b[0;31m# list comprehension, will not parse empty lines\u001b[0m\u001b[0;34m\u001b[0m\u001b[0;34m\u001b[0m\u001b[0;34m\u001b[0m\u001b[0m\n\u001b[0;32m---> 80\u001b[0;31m \u001b[0mweather_data\u001b[0m \u001b[0;34m=\u001b[0m \u001b[0;34m[\u001b[0m\u001b[0mparse_line\u001b[0m\u001b[0;34m(\u001b[0m\u001b[0mx\u001b[0m\u001b[0;34m)\u001b[0m \u001b[0;32mfor\u001b[0m \u001b[0mx\u001b[0m \u001b[0;32min\u001b[0m \u001b[0mweather\u001b[0m\u001b[0;34m.\u001b[0m\u001b[0msplit\u001b[0m\u001b[0;34m(\u001b[0m\u001b[0;34m\"\\n\"\u001b[0m\u001b[0;34m)\u001b[0m \u001b[0;32mif\u001b[0m \u001b[0mx\u001b[0m\u001b[0;34m]\u001b[0m\u001b[0;34m\u001b[0m\u001b[0;34m\u001b[0m\u001b[0m\n\u001b[0m\u001b[1;32m     81\u001b[0m \u001b[0mtmax_data\u001b[0m \u001b[0;34m=\u001b[0m \u001b[0;34m[\u001b[0m\u001b[0mx\u001b[0m \u001b[0;32mfor\u001b[0m \u001b[0mx\u001b[0m \u001b[0;32min\u001b[0m \u001b[0mweather_data\u001b[0m \u001b[0;32mif\u001b[0m \u001b[0mx\u001b[0m\u001b[0;34m[\u001b[0m\u001b[0;36m3\u001b[0m\u001b[0;34m]\u001b[0m \u001b[0;34m==\u001b[0m \u001b[0;34m'TMAX'\u001b[0m\u001b[0;34m]\u001b[0m\u001b[0;34m\u001b[0m\u001b[0;34m\u001b[0m\u001b[0m\n\u001b[1;32m     82\u001b[0m \u001b[0mtmin_data\u001b[0m \u001b[0;34m=\u001b[0m \u001b[0;34m[\u001b[0m\u001b[0mx\u001b[0m \u001b[0;32mfor\u001b[0m \u001b[0mx\u001b[0m \u001b[0;32min\u001b[0m \u001b[0mweather_data\u001b[0m \u001b[0;32mif\u001b[0m \u001b[0mx\u001b[0m\u001b[0;34m[\u001b[0m\u001b[0;36m3\u001b[0m\u001b[0;34m]\u001b[0m \u001b[0;34m==\u001b[0m \u001b[0;34m'TMIN'\u001b[0m\u001b[0;34m]\u001b[0m\u001b[0;34m\u001b[0m\u001b[0;34m\u001b[0m\u001b[0m\n",
      "\u001b[0;32m<ipython-input-1-a4fdec4144d3>\u001b[0m in \u001b[0;36m<listcomp>\u001b[0;34m(.0)\u001b[0m\n\u001b[1;32m     78\u001b[0m \u001b[0;31m# process all weather data\u001b[0m\u001b[0;34m\u001b[0m\u001b[0;34m\u001b[0m\u001b[0;34m\u001b[0m\u001b[0m\n\u001b[1;32m     79\u001b[0m \u001b[0;31m# list comprehension, will not parse empty lines\u001b[0m\u001b[0;34m\u001b[0m\u001b[0;34m\u001b[0m\u001b[0;34m\u001b[0m\u001b[0m\n\u001b[0;32m---> 80\u001b[0;31m \u001b[0mweather_data\u001b[0m \u001b[0;34m=\u001b[0m \u001b[0;34m[\u001b[0m\u001b[0mparse_line\u001b[0m\u001b[0;34m(\u001b[0m\u001b[0mx\u001b[0m\u001b[0;34m)\u001b[0m \u001b[0;32mfor\u001b[0m \u001b[0mx\u001b[0m \u001b[0;32min\u001b[0m \u001b[0mweather\u001b[0m\u001b[0;34m.\u001b[0m\u001b[0msplit\u001b[0m\u001b[0;34m(\u001b[0m\u001b[0;34m\"\\n\"\u001b[0m\u001b[0;34m)\u001b[0m \u001b[0;32mif\u001b[0m \u001b[0mx\u001b[0m\u001b[0;34m]\u001b[0m\u001b[0;34m\u001b[0m\u001b[0;34m\u001b[0m\u001b[0m\n\u001b[0m\u001b[1;32m     81\u001b[0m \u001b[0mtmax_data\u001b[0m \u001b[0;34m=\u001b[0m \u001b[0;34m[\u001b[0m\u001b[0mx\u001b[0m \u001b[0;32mfor\u001b[0m \u001b[0mx\u001b[0m \u001b[0;32min\u001b[0m \u001b[0mweather_data\u001b[0m \u001b[0;32mif\u001b[0m \u001b[0mx\u001b[0m\u001b[0;34m[\u001b[0m\u001b[0;36m3\u001b[0m\u001b[0;34m]\u001b[0m \u001b[0;34m==\u001b[0m \u001b[0;34m'TMAX'\u001b[0m\u001b[0;34m]\u001b[0m\u001b[0;34m\u001b[0m\u001b[0;34m\u001b[0m\u001b[0m\n\u001b[1;32m     82\u001b[0m \u001b[0mtmin_data\u001b[0m \u001b[0;34m=\u001b[0m \u001b[0;34m[\u001b[0m\u001b[0mx\u001b[0m \u001b[0;32mfor\u001b[0m \u001b[0mx\u001b[0m \u001b[0;32min\u001b[0m \u001b[0mweather_data\u001b[0m \u001b[0;32mif\u001b[0m \u001b[0mx\u001b[0m\u001b[0;34m[\u001b[0m\u001b[0;36m3\u001b[0m\u001b[0;34m]\u001b[0m \u001b[0;34m==\u001b[0m \u001b[0;34m'TMIN'\u001b[0m\u001b[0;34m]\u001b[0m\u001b[0;34m\u001b[0m\u001b[0;34m\u001b[0m\u001b[0m\n",
      "\u001b[0;31mNameError\u001b[0m: name 'parse_line' is not defined"
     ]
    }
   ],
   "source": [
    "# xxx fill in all pieces of your codes here\n",
    "import requests\n",
    "\n",
    "def parse_line(line):\n",
    "    \"\"\" parses line of weather data \n",
    "        removes values of -9999 (missing value)\n",
    "    \"\"\"\n",
    "    \n",
    "    # return None if line is empty\n",
    "    if not line:\n",
    "        return None\n",
    "    \n",
    "    # split out first 4 fields and string containing temperature values\n",
    "    record, temperature_string = (line[:11], int(line[11:15]), int(line[15:17]), line[17:21]), line[21:] \n",
    "    \n",
    "    # raise exception if the temperature string is too short\n",
    "    if len(temperature_string) < 248:\n",
    "        raise ValueError(\"String not long enough - {} {}\".format(temperature_string, str(line)))\n",
    "        \n",
    "    # use a list comprehension on the temperature_string to extract and convert the \n",
    "    values = [float(temperature_string[i:i + 5])/10 for i in range(0, 248, 8)\n",
    "              if not temperature_string[i:i + 5].startswith(\"-9999\")]\n",
    "    \n",
    "    # get the number of values, the max and min, and calculate average\n",
    "    count = len(values)\n",
    "    tmax = round(max(values), 1)\n",
    "    tmin = round(min(values), 1)\n",
    "    mean = round(sum(values)/count, 1)\n",
    "\n",
    "    # add the temperature summary values to the record fields extracted earlier and return\n",
    "    return record + (tmax, tmin, mean, count)\n",
    "\n",
    "\n",
    "\n",
    "# get readme.txt file\n",
    "s = 'https://www1.ncdc.noaa.gov/pub/data/ghcn/daily/readme.txt'\n",
    "r = requests.get(s)\n",
    "readme = r.text\n",
    "\n",
    "# get inventory and stations files\n",
    "s = 'https://www1.ncdc.noaa.gov/pub/data/ghcn/daily/ghcnd-inventory.txt'\n",
    "r = requests.get(s)\n",
    "inventory_txt = r.text\n",
    "s = 'https://www1.ncdc.noaa.gov/pub/data/ghcn/daily/ghcnd-stations.txt'\n",
    "r = requests.get(s)\n",
    "stations_txt = r.text\n",
    "\n",
    "# save both the inventory and stations files to disk, in case we need them\n",
    "f1 = \"inventory.txt\"\n",
    "with open(f1, \"w\") as f:\n",
    "    f.write(inventory_txt)\n",
    "    \n",
    "f2 = \"stations.txt\"\n",
    "with open(f2, \"w\") as f:\n",
    "    f.write(stations_txt) \n",
    "    \n",
    "# parse to named tuples\n",
    "\n",
    "# use namedtuple to create a custom Inventory class\n",
    "from collections import namedtuple\n",
    "Inventory = namedtuple(\"Inventory\", ['station', 'latitude', 'longitude', 'element', 'start', 'end'])\n",
    "\n",
    "# parse inventory lines and convert some values to floats and ints\n",
    "inventory = []\n",
    "invntry = [x for x in inventory_txt.split(\"\\n\") if x.startswith(\"US\")]\n",
    "for x in invntry:\n",
    "    a = x[0:11] \n",
    "    b = float(x[12:20]) \n",
    "    c = float(x[21:30]) \n",
    "    d = x[31:35] \n",
    "    e = int(x[36:40]) \n",
    "    f = int(x[41:45]) \n",
    "    y = Inventory(a,b,c,d,e,f)\n",
    "    inventory.append(y) \n",
    "\n",
    "def f(x):\n",
    "    return x.element in ['TMIN', 'TMAX'] and x.end >= 2015 and x.start < 1920\n",
    "\n",
    "inventory_temps = [x for x in inventory if f(x) ]\n",
    "\n",
    "# San Jose\n",
    "latitude, longitude = 37.3382, -121.8863    #37.3382° N, 121.8863° W\n",
    "inventory_temps.sort(key=lambda x:  abs(latitude-x.latitude) + abs(longitude-x.longitude))\n",
    "\n",
    "station_id = 'USC00047916'\n",
    "# parse stations\n",
    "Station = namedtuple(\"Station\", ['station_id', 'latitude', 'longitude', 'elevation', 'state', 'name', 'start', 'end'])\n",
    "\n",
    "stations = [(x[0:11], float(x[12:20]), float(x[21:30]), float(x[31:37]), x[38:40].strip(), x[41:71].strip())\n",
    "            for x in stations_txt.split(\"\\n\") if x.startswith(station_id)]\n",
    "\n",
    "a = [ x for x in stations_txt.split(\"\\n\") if x.startswith(station_id) ]\n",
    "\n",
    "station = Station(*stations[0] + (inventory_temps[0].start, inventory_temps[0].end))\n",
    "\n",
    "# fetch daily records for selected station\n",
    "s = 'https://www1.ncdc.noaa.gov/pub/data/ghcn/daily/all/{}.dly'.format(station.station_id)\n",
    "r = requests.get(s)\n",
    "weather = r.text\n",
    "\n",
    "# save into a text file, so we won't need to fetch again\n",
    "with open('weather_{}.txt'.format(station), \"w\") as weather_file:\n",
    "    weather_file.write(weather)\n",
    "\n",
    "# read from saved daily file if needed (only used if we want to start the process over without downloadng the file)\n",
    "with open('weather_{}.txt'.format(station)) as weather_file:\n",
    "    weather = weather_file.read()\n",
    "\n",
    "# process all weather data\n",
    "\n",
    "# list comprehension, will not parse empty lines\n",
    "weather_data = [parse_line(x) for x in weather.split(\"\\n\") if x]\n",
    "tmax_data = [x for x in weather_data if x[3] == 'TMAX']\n",
    "tmin_data = [x for x in weather_data if x[3] == 'TMIN']\n",
    "\n",
    "import pandas as pd\n",
    "%matplotlib inline\n",
    "\n",
    "a = ['Station', 'Year', 'Month', 'Element', 'Max', 'Min', 'Mean', 'Days']\n",
    "\n",
    "tmax_df = pd.DataFrame(tmax_data, columns=a )\n",
    "tmin_df = pd.DataFrame(tmin_data, columns=a )\n",
    "\n",
    "# select Year, Min, Max, Mean columns, group by year, average and line plot\n",
    "a = ['Year','Min', 'Mean', 'Max']\n",
    "tmin_df[a].groupby('Year').mean().plot( kind='line', figsize=(16, 4))\n",
    "\n",
    "\n",
    "\n"
   ]
  },
  {
   "cell_type": "code",
   "execution_count": null,
   "metadata": {
    "scrolled": true
   },
   "outputs": [],
   "source": [
    "from IPython.display import Image\n",
    "Image(filename='san.jose.temperature.png')"
   ]
  },
  {
   "cell_type": "markdown",
   "metadata": {},
   "source": [
    "## Reference for the following questions\n",
    "* https://www.w3resource.com/python-exercises/pandas/index-dataframe.php"
   ]
  },
  {
   "cell_type": "markdown",
   "metadata": {},
   "source": [
    "### (6pt) Q2: Write a Pandas program to get the first n rows of a given DataFrame \n",
    "\n",
    "* using the following three methods:\n",
    "    * (2pt) the loc method \n",
    "    * (2pt) the iloc  method\n",
    "    * (2pt) the head method"
   ]
  },
  {
   "cell_type": "code",
   "execution_count": null,
   "metadata": {},
   "outputs": [],
   "source": [
    "import pandas as pd\n",
    "import numpy as np\n",
    "exam_data  = {'name': ['Anastasia', 'Dima', 'Katherine', 'James', 'Emily', 'Michael', 'Matthew', 'Laura', 'Kevin', 'Jonas'],\n",
    "        'score': [12.5, 9, 16.5, np.nan, 9, 20, 14.5, np.nan, 8, 19],\n",
    "        'attempts': [1, 3, 2, 3, 2, 3, 1, 1, 2, 1],\n",
    "        'qualify': ['yes', 'no', 'yes', 'no', 'no', 'yes', 'yes', 'no', 'no', 'yes']}\n",
    "labels = ['a', 'b', 'c', 'd', 'e', 'f', 'g', 'h', 'i', 'j']\n",
    "\n",
    "df = pd.DataFrame(exam_data , index=labels)\n",
    "n = 3\n",
    "# xxx print out the first three rows of the data frame using the following three methods\n",
    "\n",
    "# xxx use df.loc method \n",
    "print(\"\\nFirst three rows of the data frame using df.loc:\")\n",
    "print(df.loc['a':'c']) # xxx fill in the missing code here\n",
    "\n",
    "# xxx use df.iloc  method\n",
    "print(\"\\nFirst three rows of the data frame using df.iloc:\")\n",
    "print(df.iloc[0:3]) # xxx fill in the missing code here\n",
    "\n",
    "# xxx use df.head  method\n",
    "print(\"\\nFirst three rows of the data frame using df.head:\")\n",
    "print(df.head(3)) # xxx fill in the missing code here"
   ]
  },
  {
   "cell_type": "raw",
   "metadata": {},
   "source": [
    "# Expected output\n",
    "\n",
    "First three rows of the data frame using df.loc:\n",
    "        name  score  attempts qualify\n",
    "a  Anastasia   12.5         1     yes\n",
    "b       Dima    9.0         3      no\n",
    "c  Katherine   16.5         2     yes\n",
    "\n",
    "First three rows of the data frame using df.iloc:\n",
    "        name  score  attempts qualify\n",
    "a  Anastasia   12.5         1     yes\n",
    "b       Dima    9.0         3      no\n",
    "c  Katherine   16.5         2     yes\n",
    "\n",
    "First three rows of the data frame using df.head:\n",
    "        name  score  attempts qualify\n",
    "a  Anastasia   12.5         1     yes\n",
    "b       Dima    9.0         3      no\n",
    "c  Katherine   16.5         2     yes"
   ]
  },
  {
   "cell_type": "markdown",
   "metadata": {},
   "source": [
    "### (5pt) Q3: Write a Pandas program to select the specified columns and rows from a given DataFrame.\n"
   ]
  },
  {
   "cell_type": "code",
   "execution_count": null,
   "metadata": {},
   "outputs": [],
   "source": [
    "#\n",
    "import pandas as pd\n",
    "import numpy as np\n",
    "\n",
    "exam_data  = {'name': ['Anastasia', 'Dima', 'Katherine', 'James', 'Emily', 'Michael', 'Matthew', 'Laura', 'Kevin', 'Jonas'],\n",
    "        'score': [12.5, 9, 16.5, np.nan, 9, 20, 14.5, np.nan, 8, 19],\n",
    "        'attempts': [1, 3, 2, 3, 2, 3, 1, 1, 2, 1],\n",
    "        'qualify': ['yes', 'no', 'yes', 'no', 'no', 'yes', 'yes', 'no', 'no', 'yes']}\n",
    "labels = ['a', 'b', 'c', 'd', 'e', 'f', 'g', 'h', 'i', 'j']\n",
    "\n",
    "df = pd.DataFrame(exam_data , index=labels)\n",
    "print (df)\n",
    "\n",
    "#print(\"Select specific columns indexed at 1,3,5,6 and rows indexed at 1,3\")\n",
    "a = [1, 3, 5, 6]  # the indices of the selected columns\n",
    "b = [1,3]         # the indices of the selected rows\n",
    "\n",
    "\n",
    "# (1pt) use iloc method to print out the same\n",
    "print(df.iloc[a, b]) # xxx fill in the missing code here\n",
    "\n",
    "# (4pt) use loc method to print out the same\n",
    "# xxx fill in the missing code here\n",
    "rows = [x for i, x in enumerate(df.index) if i in a]\n",
    "columns = [x for i, x in enumerate(df.columns) if i in b]\n",
    "print(df.loc[rows][columns])"
   ]
  },
  {
   "cell_type": "raw",
   "metadata": {},
   "source": [
    "# the expected output\n",
    "   score qualify\n",
    "b    9.0      no\n",
    "d    NaN      no\n",
    "f   20.0     yes\n",
    "g   14.5     yes"
   ]
  },
  {
   "cell_type": "markdown",
   "metadata": {},
   "source": [
    "### (3pt) Q4: Write a Pandas program to display largest n records within each group of a given DataFramefrom."
   ]
  },
  {
   "cell_type": "code",
   "execution_count": null,
   "metadata": {},
   "outputs": [],
   "source": [
    "import pandas as pd\n",
    "d = {'col1': [1, 2, 3, 4, 7, 11], 'col2': [4, 5, 6, 9, 5, 0], 'col3': [7, 5, 8, 12, 1,11]}\n",
    "df = pd.DataFrame(data=d)\n",
    "#print(\"Original DataFrame\")\n",
    "#print(df)\n",
    "\n",
    "n=3\n",
    "print(\"\\n\\nlargest n records within each group of a DataFrame:\")\n",
    "for i in df.columns: #xxx you must use a for-loop to iterate each column of the dataframe as for i in ....\n",
    "    print(df.nlargest(n, i)) #xxx fill in the missing piece of codes here"
   ]
  },
  {
   "cell_type": "raw",
   "metadata": {},
   "source": [
    "#Expected output\n",
    "\n",
    "\n",
    "largest n records within each group of a DataFrame:\n",
    "   col1  col2  col3\n",
    "5    11     0    11\n",
    "4     7     5     1\n",
    "3     4     9    12\n",
    "   col1  col2  col3\n",
    "3     4     9    12\n",
    "2     3     6     8\n",
    "1     2     5     5\n",
    "   col1  col2  col3\n",
    "3     4     9    12\n",
    "5    11     0    11\n",
    "2     3     6     8"
   ]
  },
  {
   "cell_type": "markdown",
   "metadata": {},
   "source": [
    "### (3pt) Q5: Write a Pandas program to select rows from a given DataFrame based on values in some columns.\n"
   ]
  },
  {
   "cell_type": "code",
   "execution_count": null,
   "metadata": {},
   "outputs": [],
   "source": [
    "import pandas as pd\n",
    "import numpy as np\n",
    "d = {'col1': [1, 4, 3, 4, 5], 'col2': [4, 5, 6, 7, 8], 'col3': [7, 8, 9, 0, 1]}\n",
    "df = pd.DataFrame(data=d)\n",
    "#print(\"Original DataFrame\")\n",
    "#print(df)\n",
    "\n",
    "for i in df.columns:\n",
    "    print('\\nRows for %s value == 4' % i)\n",
    "    print(df.loc[df[i] == 4]) # xxx Fill in the missing piece of codes here"
   ]
  },
  {
   "cell_type": "code",
   "execution_count": null,
   "metadata": {},
   "outputs": [],
   "source": [
    "# Expected output\n",
    "   col1  col2  col3\n",
    "1     4     5     8\n",
    "3     4     7     0\n",
    "\n",
    "Rows for col2 value == 4\n",
    "   col1  col2  col3\n",
    "0     1     4     7\n",
    "\n",
    "Rows for col3 value == 4\n",
    "Empty DataFrame\n",
    "Columns: [col1, col2, col3]\n",
    "Index: []"
   ]
  }
 ],
 "metadata": {
  "kernelspec": {
   "display_name": "Python 3",
   "language": "python",
   "name": "python3"
  },
  "language_info": {
   "codemirror_mode": {
    "name": "ipython",
    "version": 3
   },
   "file_extension": ".py",
   "mimetype": "text/x-python",
   "name": "python",
   "nbconvert_exporter": "python",
   "pygments_lexer": "ipython3",
   "version": "3.8.3"
  }
 },
 "nbformat": 4,
 "nbformat_minor": 4
}
