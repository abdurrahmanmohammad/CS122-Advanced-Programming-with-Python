{
 "cells": [
  {
   "cell_type": "markdown",
   "metadata": {},
   "source": [
    "# CS122: HW4.2: \n",
    "* (Chapter 17 Data types as objects)\n"
   ]
  },
  {
   "cell_type": "markdown",
   "metadata": {},
   "source": [
    "# Q#1 (15pt): Make objects behave like the Python list\n",
    "\n",
    "* Polygon is nothing but a list of its vertecies\n",
    "* So we may enable the Polygon object behave like the Python list\n",
    "* Add the missing pieces of codes below that the Polygon objects will behave list the Python list\n",
    "* The tester() method may be updated later."
   ]
  },
  {
   "cell_type": "code",
   "execution_count": 1,
   "metadata": {},
   "outputs": [],
   "source": [
    "import copy\n",
    "class Shape:\n",
    "    def __init__(self):  \n",
    "        self.__x = 0; # Set x\n",
    "        self.__y = 0; # Set y\n",
    "    def __str__ (self): # a string representation\n",
    "        return self.__class__.__name__\n",
    "    def __repr__ (self): # more official string representation \n",
    "        return str (self)\n",
    "    def __lt__(self, other):\n",
    "        \"\"\"comparison function used for sort() by the x-coordinate.\n",
    "           break a tie by the y-coordinate first, and then by the node id if needed\n",
    "        \"\"\"\n",
    "        # From lecture 11.1\n",
    "        d = self.__x - other.__x\n",
    "        if d == 0:\n",
    "            d = self.__y - other.__y\n",
    "        if d == 0:\n",
    "            d = self.id - other.id\n",
    "        return d < 0\n",
    "        \n",
    "class Circle (Shape):\n",
    "    def __init__(self):  \n",
    "        super().__init__() # Extend parent class (pass in x and y)\n",
    "class Point (Circle):\n",
    "    __count = 0             # private, class variable\n",
    "    def __init__(self):\n",
    "        super().__init__() # Extend parent class (radius = 0)\n",
    "        self.__id = self.__count\n",
    "        self.__class__.__count +=1 \n",
    "    def __str__(self):\n",
    "        s = self.__class__.__name__\n",
    "        s = \"{0:s}{1:d}\".format (s,self.__id)\n",
    "        return s\n",
    "    @property\n",
    "    def id(self):\n",
    "        return self.__id\n",
    "    \n",
    "class Polygon():  # want it to behave like a list,\n",
    "    \"\"\"\n",
    "    \"\"\"\n",
    "    def __init__(self, pts):\n",
    "        self.__vertex = copy.deepcopy(pts)\n",
    "        \n",
    "    def __getitem__ (self,i): \n",
    "        \"\"\"overload operator []\n",
    "            p[i] means the vertex i of Polygon p\n",
    "        \"\"\"\n",
    "        return self.__vertex[i] # Return i^th vertex in list\n",
    "    \n",
    "    def __setitem__ (self,i,x):\n",
    "        \"\"\"set vertex i of the Polygon object to be the deepcopy of the given Point x\"\"\" \n",
    "        self.__vertex[i] = copy.deepcopy(x)\n",
    "        \n",
    "    def sort (self):\n",
    "        \"\"\"sort vertices by their x-coordinate.\n",
    "           break ties by the y-coordinate first and then Point __id.\n",
    "        \"\"\"\n",
    "        self.__vertex.sort() # Sort vertex list\n",
    "        \n",
    "    def append (self,x):\n",
    "        self.__vertex.append(x) # Append a vertex to list\n",
    "        \n",
    "    def __delitem__(self,i):\n",
    "        \"\"\"support del function for the list\"\"\"\n",
    "        del self.__vertex[i] # Delete i^th vertex\n",
    "\n",
    "    \n",
    "    def __len__ (self):\n",
    "        \"\"\"return the number of vertices.\"\"\"\n",
    "        return len(self.__vertex) # Return length of vertex list\n",
    "    \n",
    "    def __str__(self):\n",
    "        return str(self.__vertex) # Return list of elements as a string"
   ]
  },
  {
   "cell_type": "code",
   "execution_count": 2,
   "metadata": {},
   "outputs": [],
   "source": [
    "def tester():\n",
    "    n = 7\n",
    "    pts = [ Point() for i in range (n)]\n",
    "\n",
    "    p = Polygon ( pts)  # \n",
    "\n",
    "    p.append (Point())  # n-vertex polygon\n",
    "\n",
    "    del p[0:2]          # delete the first two vertices\n",
    "\n",
    "    p[0] = Point()\n",
    "    a = [x for x in p]\n",
    "    print (\"before sorting: \", a)\n",
    "    msg = \"The testcase failed!\\n\\n\"\n",
    "\n",
    "    try:\n",
    "        p.sort()\n",
    "        n = len(p)\n",
    "        for i in range (n-1):\n",
    "            b = p[i] < p[i+1]\n",
    "            assert b,  \"fail!\"\n",
    "        a = [x for x in p]\n",
    "        print (\"after sorting:  \", a)\n",
    "        msg =\"The testcase passed!\\n\\n\"\n",
    "    except AttributeError as e:\n",
    "        print (e)\n",
    "    except AssertionError as e:\n",
    "        print( e )\n",
    "    finally:\n",
    "        print (msg)\n",
    "\n"
   ]
  },
  {
   "cell_type": "code",
   "execution_count": 3,
   "metadata": {},
   "outputs": [
    {
     "name": "stdout",
     "output_type": "stream",
     "text": [
      "before sorting:  [Point8, Point3, Point4, Point5, Point6, Point7]\n",
      "after sorting:   [Point3, Point4, Point5, Point6, Point7, Point8]\n",
      "The testcase passed!\n",
      "\n",
      "\n"
     ]
    }
   ],
   "source": [
    "tester()\n",
    "\n",
    "s =\"\"\" The following is the expected output except that the id number could be different.\n",
    "\n",
    "before sorting:  [Point8, Point3, Point4, Point5, Point6, Point7]\n",
    "after sorting:   [Point3, Point4, Point5, Point6, Point7, Point8]\n",
    "The testcase passed!\n",
    "\"\"\""
   ]
  }
 ],
 "metadata": {
  "kernelspec": {
   "display_name": "Python 3",
   "language": "python",
   "name": "python3"
  },
  "language_info": {
   "codemirror_mode": {
    "name": "ipython",
    "version": 3
   },
   "file_extension": ".py",
   "mimetype": "text/x-python",
   "name": "python",
   "nbconvert_exporter": "python",
   "pygments_lexer": "ipython3",
   "version": "3.8.3"
  },
  "toc": {
   "nav_menu": {},
   "number_sections": true,
   "sideBar": true,
   "skip_h1_title": false,
   "toc_cell": false,
   "toc_position": {},
   "toc_section_display": "block",
   "toc_window_display": false
  }
 },
 "nbformat": 4,
 "nbformat_minor": 2
}
