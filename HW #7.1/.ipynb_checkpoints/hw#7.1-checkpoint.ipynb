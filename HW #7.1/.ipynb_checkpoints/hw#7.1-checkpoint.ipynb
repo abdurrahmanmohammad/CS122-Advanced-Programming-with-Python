{
 "cells": [
  {
   "cell_type": "markdown",
   "metadata": {},
   "source": [
    "# HW7.1: Flask Template\n",
    "\n",
    "* Goal: produce a web page at  http:/127.0.0.1:5000/test that displays greetings as shown in the attached png file.\n",
    "\n",
    "*Instructions\n",
    "    * Download the tutorial microblog-0.2.zip at https://blog.miguelgrinberg.com/post/the-flask-mega-tutorial-part-ii-templates\n",
    "    * Test if your set up is okay by running command \"flask run\"\n",
    "    * In app/templates/base.html \n",
    "        * Add a /test link in the navigation bar \n",
    "    * In app/routes.py\n",
    "        * Add a view function for the Test link\n",
    "        * display at least three greetings in different cities by different persons\n",
    " * Grading:\n",
    "      * You will  earn the full credit if your program can produce the same result\n",
    "      * No credit will be given otherwise.\n",
    " * Reference: \n",
    "     * https://blog.miguelgrinberg.com/post/the-flask-mega-tutorial-part-ii-templates\n",
    " * Submit this file hw#8.1.ipynb that contains your work "
   ]
  },
  {
   "cell_type": "markdown",
   "metadata": {},
   "source": [
    "# Reference:\n",
    "\n",
    "* https://blog.miguelgrinberg.com/post/the-flask-mega-tutorial-part-ii-templates"
   ]
  },
  {
   "cell_type": "code",
   "execution_count": null,
   "metadata": {},
   "outputs": [],
   "source": [
    "# Flask.1-3/0.microblog-0.02.templates/microblog.ipynb\n",
    "import os, path\n",
    "space = \" \"*3\n",
    "def f(dir, ind):\n",
    "    for x in os.listdir(dir):\n",
    "        a = [\".ipynb_checkpoints\",\"venv\", \"images\", \"__pycache__\", \"LICENSE\"]\n",
    "        if os.path.basename(x) in a: continue      # skip the above directories\n",
    "        if x.endswith(\".png\"): continue\n",
    "        y = os.path.join(dir, x)\n",
    "\n",
    "        if (os.path.isdir(y)):    # if y is directory, do recursive all\n",
    "            f(y, ind + space)\n",
    "        else:\n",
    "            z = ind+space         #\n",
    "            print (z,x)        \n",
    "f(\".\", space)"
   ]
  },
  {
   "cell_type": "code",
   "execution_count": null,
   "metadata": {},
   "outputs": [],
   "source": [
    "# utility functions to read from or write to a file\n",
    "def dump(fn, d=None):\n",
    "    with open (fn, \"r\") as f:\n",
    "        for x in f: print (x.rstrip(d))\n",
    "            \n",
    "def write (fn, s):\n",
    "    with open(fn,\"w\") as f:\n",
    "        f.write(s)"
   ]
  },
  {
   "cell_type": "code",
   "execution_count": null,
   "metadata": {},
   "outputs": [],
   "source": [
    "# Flask.1-3/0.microblog-0.02.templates/microblog.ipynb\n",
    "# app/templates/base.html \n",
    "# xxx add a /test Link in the navigation bar \n",
    "s=\"\"\"\n",
    "<html>\n",
    "    <head>\n",
    "      {% if title %}\n",
    "          <title>{{ title }} - Microblog</title>\n",
    "      {% else %}\n",
    "          <title>Welcome to Microblog</title>\n",
    "      {% endif %}\n",
    "    </head>\n",
    "    <body>\n",
    "        <div>Microblog: <a href=\"/index\">Home</a> <a href=\"/test\">Test</a></div>  \n",
    "        <hr>\n",
    "        {% block content %}  {% endblock %}             \n",
    "    </body>\n",
    "</html>\"\"\""
   ]
  },
  {
   "cell_type": "code",
   "execution_count": null,
   "metadata": {},
   "outputs": [],
   "source": [
    "fn = \"app/templates/base.html\"\n",
    "write(fn,s)\n",
    "dump(fn)\n"
   ]
  },
  {
   "cell_type": "markdown",
   "metadata": {},
   "source": [
    "<div class=\"hw.7.1.many.png\">\n",
    "    <div style=\"float:center;margin-right:55px;\">\n",
    "        <img src=\"hw.7.1.many.png\" height=\"400\" width=\"400\"  />\n",
    "        <p style=\"text-align:center;\"> hw.7.1.many.png </p>\n",
    "    </div>\n",
    "</div>"
   ]
  },
  {
   "cell_type": "code",
   "execution_count": null,
   "metadata": {},
   "outputs": [],
   "source": [
    "# In app/routes.py\n",
    "# Add a view function for the Test link\n",
    "# display at least three greetings in different cities by different persons\n",
    "\n",
    "\"\"\"\n",
    "* In app/routes.py\n",
    "* Add a view function for the /test link\n",
    "* display at least three greetings in different cities by different persons\n",
    "\"\"\"\n",
    "\n",
    "s = \"\"\"\n",
    "from flask import render_template\n",
    "from app import app\n",
    "import random\n",
    "\n",
    "@app.route('/test')\n",
    "def test(): # xxx add the view function for the test link here\n",
    "    a = 'author'\n",
    "    b = 'body'\n",
    "    u = 'username'\n",
    "    cities = [\"Portland\", \"San Jose\"] + ['San Francisco', 'New York', 'Chicago', 'Philadelphia', 'Boston']\n",
    "    names = [\"Joe\", \"Jessie\", \"Jonnason\", \"John\", \"Sue\", \"Susie\", \"Susan\" ]\n",
    "    n = 3\n",
    "    posts = []\n",
    "    for i in range (n): # create random posts\n",
    "        s = 'The best city in US to live is ' + random.choice(cities) + \"!!!\"\n",
    "        name = random.choice(names)\n",
    "        d = {a : {u : name }, b: s }\n",
    "        posts.append(d)\n",
    "    user = { u: 'Folks'}\n",
    "    return render_template('index.html', title='Home', user=user, posts=posts)\n",
    "\n",
    "@app.route('/')\n",
    "@app.route('/index' )\n",
    "def index():\n",
    "    a = 'author'\n",
    "    b = 'body'\n",
    "    u = 'username'\n",
    "    user = { u: 'Miguel'}\n",
    "    posts = [\n",
    "        {\n",
    "            a: {u: 'John'},\n",
    "            b : 'Beautiful day in Portland!'\n",
    "        },\n",
    "        {\n",
    "            a: {u: 'Susan'},\n",
    "            b : 'The Avengers movie was so cool!'\n",
    "        }\n",
    "    ]\n",
    "    return render_template('index.html', title='Home', user=user, posts=posts)\n",
    "\"\"\"\n",
    "fn = \"app/routes.py\"\n",
    "write(fn,s)\n",
    "dump (fn)"
   ]
  },
  {
   "cell_type": "code",
   "execution_count": null,
   "metadata": {},
   "outputs": [],
   "source": [
    "# Flask.1-3/0.microblog-0.02.templates/microblog.ipynb\n",
    "# app/templates/index.html: Inherit from base template\n",
    "\n",
    "s=\"\"\"\n",
    "{% extends \"base.html\" %}            <!--  xxx base.html inserted here -->\n",
    "\n",
    "<!-- xxx fill in the missing codes -->\n",
    "\n",
    "{% block content %}                   <!-- # xxx block to be inserted in the base.html -->\n",
    "    <h1>Hi, {{ user.username }}!</h1>\n",
    "    {% for post in posts %}           <!-- # xxx for-loop -->\n",
    "    <div>\n",
    "        <p>{{ post.author.username }} says: \n",
    "            <b>{{ post.body }}</b>\n",
    "        </p>\n",
    "    </div>\n",
    "    {% endfor %}                      <!-- # xxx end of for-loop -->\n",
    "{% endblock %}                        <!-- # xxx end of block -->              \n",
    "\n",
    "\"\"\""
   ]
  },
  {
   "cell_type": "code",
   "execution_count": null,
   "metadata": {},
   "outputs": [],
   "source": [
    "fn = \"app/templates/index.html\"\n",
    "write(fn,s)\n",
    "dump(fn)"
   ]
  },
  {
   "cell_type": "code",
   "execution_count": null,
   "metadata": {},
   "outputs": [],
   "source": [
    "!flask run"
   ]
  }
 ],
 "metadata": {
  "kernelspec": {
   "display_name": "Python 3",
   "language": "python",
   "name": "python3"
  },
  "language_info": {
   "codemirror_mode": {
    "name": "ipython",
    "version": 3
   },
   "file_extension": ".py",
   "mimetype": "text/x-python",
   "name": "python",
   "nbconvert_exporter": "python",
   "pygments_lexer": "ipython3",
   "version": "3.8.3"
  }
 },
 "nbformat": 4,
 "nbformat_minor": 2
}
