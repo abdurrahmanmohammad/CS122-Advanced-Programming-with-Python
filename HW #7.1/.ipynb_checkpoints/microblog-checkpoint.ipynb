{
 "cells": [
  {
   "cell_type": "markdown",
   "metadata": {},
   "source": [
    "# The Flask Mega-Tutorial Part II: Templates\n",
    "https://blog.miguelgrinberg.com/post/the-flask-mega-tutorial-part-ii-templates"
   ]
  },
  {
   "cell_type": "code",
   "execution_count": 33,
   "metadata": {},
   "outputs": [],
   "source": [
    "!python -m venv venv  \n",
    "# The 1st venv in the command is the name of the Python virtual environment package,\n",
    "# The 2nd venv is the diretory name"
   ]
  },
  {
   "cell_type": "code",
   "execution_count": 42,
   "metadata": {
    "collapsed": true
   },
   "outputs": [
    {
     "name": "stdout",
     "output_type": "stream",
     "text": [
      "app/templates/base.html\n",
      "<html>\n",
      "<head>\n",
      "{% if title %}\n",
      "<title>{{ title }} - Microblog</title>\n",
      "{% else %}\n",
      "<title>Welcome to Microblog</title>\n",
      "{% endif %}\n",
      "</head>\n",
      "<body>\n",
      "<div>Microblog: <a href=\"/index\">Home</a></div>\n",
      "<hr>\n",
      "{% block content %}{% endblock %}\n",
      "</body>\n",
      "</html>\n"
     ]
    }
   ],
   "source": [
    "fn = \"app/templates/base.html\"\n",
    "dump (fn, \"\\n\")"
   ]
  },
  {
   "cell_type": "code",
   "execution_count": 43,
   "metadata": {},
   "outputs": [
    {
     "name": "stdout",
     "output_type": "stream",
     "text": [
      "    . .\n",
      "       .flaskenv\n",
      "       ./app app\n",
      "          __init__.py\n",
      "          ./app/templates templates\n",
      "             index.html\n",
      "             base.html\n",
      "          routes.py\n",
      "       LICENSE\n",
      "       README.md\n",
      "       microblog.py\n",
      "       ch02-mock-user.png\n",
      "       ch02-mock-posts.png\n",
      "       microblog.ipynb\n",
      "       activate.csh\n"
     ]
    }
   ],
   "source": [
    "import os, path\n",
    "space = \" \"*3\n",
    "def f(dir, ind):\n",
    "    print (ind,dir, os.path.basename(dir))\n",
    "    for x in os.listdir(dir):\n",
    "        a = [\".ipynb_checkpoints\",\"venv\", \"images\", \"__pycache__\"]\n",
    "        if os.path.basename(x) in a: continue      # skip the above directories\n",
    "        y = os.path.join(dir, x)\n",
    "\n",
    "        if (os.path.isdir(y)):    # if y is directory, do recursive all\n",
    "            f(y, ind + space)\n",
    "        else:\n",
    "            z = ind+space         #\n",
    "            print (z,x)        \n",
    "f(\".\", space)"
   ]
  },
  {
   "cell_type": "code",
   "execution_count": 45,
   "metadata": {},
   "outputs": [
    {
     "name": "stdout",
     "output_type": "stream",
     "text": [
      "microblog.py\n",
      "from app import app\n"
     ]
    }
   ],
   "source": [
    "def dump (fn, d=None):\n",
    "    print (fn)\n",
    "    with open (fn, \"r\") as f:\n",
    "        for x in f:\n",
    "            print (x.rstrip() )\n",
    "fn = \"microblog.py\"                # from app import app\n",
    "dump (fn)"
   ]
  },
  {
   "cell_type": "code",
   "execution_count": 39,
   "metadata": {},
   "outputs": [
    {
     "name": "stdout",
     "output_type": "stream",
     "text": [
      "app/__init__.py\n",
      "from flask import Flask\n",
      "app = Flask(__name__)\n",
      "from app import routes\n"
     ]
    }
   ],
   "source": [
    "fn = \"app/__init__.py\"\n",
    "dump (fn)"
   ]
  },
  {
   "cell_type": "code",
   "execution_count": 46,
   "metadata": {
    "collapsed": true
   },
   "outputs": [
    {
     "name": "stdout",
     "output_type": "stream",
     "text": [
      "app/routes.py\n",
      "from flask import render_template\n",
      "from app import app\n",
      "\n",
      "\n",
      "@app.route('/')\n",
      "@app.route('/index')\n",
      "def index():\n",
      "    user = {'username': 'Miguel'}\n",
      "    posts = [\n",
      "        {\n",
      "            'author': {'username': 'John'},\n",
      "            'body': 'Beautiful day in Portland!'\n",
      "        },\n",
      "        {\n",
      "            'author': {'username': 'Susan'},\n",
      "            'body': 'The Avengers movie was so cool!'\n",
      "        }\n",
      "    ]\n",
      "    return render_template('index.html', title='Home', user=user, posts=posts)\n"
     ]
    }
   ],
   "source": [
    "fn = \"app/routes.py\"\n",
    "dump (fn)"
   ]
  },
  {
   "cell_type": "code",
   "execution_count": 34,
   "metadata": {},
   "outputs": [
    {
     "name": "stdout",
     "output_type": "stream",
     "text": [
      " * Serving Flask app \"microblog.py\"\n",
      " * Environment: production\n",
      "\u001b[31m   WARNING: This is a development server. Do not use it in a production deployment.\u001b[0m\n",
      "\u001b[2m   Use a production WSGI server instead.\u001b[0m\n",
      " * Debug mode: off\n",
      " * Running on http://127.0.0.1:5000/ (Press CTRL+C to quit)\n",
      "^C\n",
      "\n"
     ]
    }
   ],
   "source": [
    "!flask run\n",
    "# press the square button on the top menu bar to quit"
   ]
  },
  {
   "cell_type": "code",
   "execution_count": null,
   "metadata": {},
   "outputs": [],
   "source": [
    "# press the square button on the top menu bar to quit"
   ]
  },
  {
   "cell_type": "code",
   "execution_count": 35,
   "metadata": {
    "collapsed": true
   },
   "outputs": [
    {
     "name": "stdout",
     "output_type": "stream",
     "text": [
      "app/routes.py\n",
      "from flask import render_template\n",
      "from app import app\n",
      "\n",
      "\n",
      "@app.route('/')\n",
      "@app.route('/index')\n",
      "def index():\n",
      "user = {'username': 'Miguel'}\n",
      "posts = [\n",
      "{\n",
      "'author': {'username': 'John'},\n",
      "'body': 'Beautiful day in Portland!'\n",
      "},\n",
      "{\n",
      "'author': {'username': 'Susan'},\n",
      "'body': 'The Avengers movie was so cool!'\n",
      "}\n",
      "]\n",
      "return render_template('index.html', title='Home', user=user, posts=posts)\n"
     ]
    }
   ],
   "source": [
    "fn = \"app/routes.py\"\n",
    "dump (fn)"
   ]
  },
  {
   "cell_type": "raw",
   "metadata": {},
   "source": [
    "app/routes.py: Return complete HTML page from view function\n",
    "\n",
    "from app import app\n",
    "\n",
    "@app.route('/')\n",
    "@app.route('/index')\n",
    "def index():\n",
    "    user = {'username': 'Miguel'}\n",
    "    s = '''\n",
    "<html>\n",
    "    <head>\n",
    "        <title>Home Page - Microblog</title>\n",
    "    </head>\n",
    "    <body>\n",
    "        <h1>Hello, ''' + user['username'] + '''!</h1>\n",
    "    </body>\n",
    "</html>'''\n",
    "    return s\n"
   ]
  },
  {
   "cell_type": "markdown",
   "metadata": {},
   "source": [
    "<div class=\"ch02-mock-posts.png\">\n",
    "    <div style=\"float:center;margin-right:55px;\">\n",
    "        <img src=\"ch02-mock-user.png\" height=\"400\" width=\"400\"  />\n",
    "        <p style=\"text-align:center;\"> ch02-mock-user.png </p>\n",
    "    </div>\n",
    "</div>"
   ]
  },
  {
   "cell_type": "markdown",
   "metadata": {},
   "source": [
    "# Templates\n",
    "\n",
    "* Templates help achieve this separation between presentation and business logic. \n",
    "* In Flask, templates are written as separate files, \n",
    "    * stored in a templates folder that is inside the application package. "
   ]
  },
  {
   "cell_type": "markdown",
   "metadata": {},
   "source": [
    "# app/routes.py: \n",
    "\n",
    "* Use render\\_template() function\n",
    "* The render_template() function invokes the Jinja2 template engine that comes bundled with the Flask framework."
   ]
  },
  {
   "cell_type": "raw",
   "metadata": {},
   "source": [
    "from flask import render_template\n",
    "from app import app\n",
    "\n",
    "@app.route('/')\n",
    "@app.route('/index')\n",
    "def index():\n",
    "    user = {'username': 'Miguel'}\n",
    "    return render_template('index.html', title='Home', user=user)"
   ]
  },
  {
   "cell_type": "markdown",
   "metadata": {},
   "source": [
    "# app/templates/index.html: \n",
    "* Conditional statement in template"
   ]
  },
  {
   "cell_type": "code",
   "execution_count": null,
   "metadata": {},
   "outputs": [],
   "source": [
    "app/templates/index.html: Conditional statement in template\n",
    "\n",
    "<html>\n",
    "    <head>\n",
    "        {% if title %}\n",
    "        <title>{{ title }} - Microblog</title>\n",
    "        {% else %}\n",
    "        <title>Welcome to Microblog!</title>\n",
    "        {% endif %}\n",
    "    </head>\n",
    "    <body>\n",
    "        <h1>Hello, {{ user.username }}!</h1>\n",
    "    </body>\n",
    "</html>"
   ]
  },
  {
   "cell_type": "markdown",
   "metadata": {},
   "source": [
    "# Use Loop"
   ]
  },
  {
   "cell_type": "markdown",
   "metadata": {},
   "source": [
    "# app/routes.py: Fake posts in index function"
   ]
  },
  {
   "cell_type": "raw",
   "metadata": {},
   "source": [
    "app/routes.py: Fake posts in view function\n",
    "\n",
    "from flask import render_template\n",
    "from app import app\n",
    "\n",
    "@app.route('/')\n",
    "@app.route('/index')\n",
    "def index():\n",
    "    user = {'username': 'Miguel'}\n",
    "    posts = [\n",
    "        {\n",
    "            'author': {'username': 'John'},\n",
    "            'body': 'Beautiful day in Portland!'\n",
    "        },\n",
    "        {\n",
    "            'author': {'username': 'Susan'},\n",
    "            'body': 'The Avengers movie was so cool!'\n",
    "        }\n",
    "    ]\n",
    "    return render_template('index.html', title='Home', user=user, posts=posts)"
   ]
  },
  {
   "cell_type": "markdown",
   "metadata": {},
   "source": [
    "# app/templates/index.html: for-loop in template\n"
   ]
  },
  {
   "cell_type": "code",
   "execution_count": null,
   "metadata": {},
   "outputs": [],
   "source": [
    "app/templates/index.html: for-loop in template\n",
    "\n",
    "<html>\n",
    "    <head>\n",
    "        {% if title %}\n",
    "        <title>{{ title }} - Microblog</title>\n",
    "        {% else %}\n",
    "        <title>Welcome to Microblog</title>\n",
    "        {% endif %}\n",
    "    </head>\n",
    "    <body>\n",
    "        <h1>Hi, {{ user.username }}!</h1>\n",
    "        {% for post in posts %}            # xxx for-loop \n",
    "        <div><p>{{ post.author.username }} says: <b>{{ post.body }}</b></p></div>\n",
    "        {% endfor %}\n",
    "    </body>\n",
    "</html>"
   ]
  },
  {
   "cell_type": "code",
   "execution_count": 47,
   "metadata": {
    "collapsed": true
   },
   "outputs": [
    {
     "data": {
      "image/png": "[encoded data removed]",
      "text/plain": [
       "<IPython.core.display.Image object>"
      ]
     },
     "execution_count": 47,
     "metadata": {},
     "output_type": "execute_result"
    }
   ],
   "source": [
    "fn = \"ch02-mock-posts.png\"\n",
    "from IPython.display import Image\n",
    "Image( fn )"
   ]
  },
  {
   "cell_type": "markdown",
   "metadata": {},
   "source": [
    "# Template Inheritance"
   ]
  },
  {
   "cell_type": "markdown",
   "metadata": {},
   "source": [
    "# app/templates/base.html: Base template with navigation bar"
   ]
  },
  {
   "cell_type": "code",
   "execution_count": null,
   "metadata": {},
   "outputs": [],
   "source": [
    "fn = \"app/templates/base.html\"\n",
    "dump(fn)"
   ]
  },
  {
   "cell_type": "raw",
   "metadata": {},
   "source": [
    "<html>\n",
    "    <head>\n",
    "      {% if title %}\n",
    "      <title>{{ title }} - Microblog</title>\n",
    "      {% else %}\n",
    "      <title>Welcome to Microblog</title>\n",
    "      {% endif %}\n",
    "    </head>\n",
    "    <body>\n",
    "        <div>Microblog: <a href=\"/index\">Home</a></div>  # xxx navigation bar\n",
    "        <hr>\n",
    "        {% block content %}  {% endblock %}              # xxx add block here\n",
    "    </body>\n",
    "</html>"
   ]
  },
  {
   "cell_type": "markdown",
   "metadata": {},
   "source": [
    "# app/templates/index.html: Inherit from base template"
   ]
  },
  {
   "cell_type": "code",
   "execution_count": null,
   "metadata": {},
   "outputs": [],
   "source": [
    "fn = \"app/templates/index.html\"\n",
    "dump(fn)"
   ]
  },
  {
   "cell_type": "raw",
   "metadata": {},
   "source": [
    "app/templates/index.html: Inherit from base template\n",
    "\n",
    "{% extends \"base.html\" %}\n",
    "\n",
    "{% block content %}                   # xxx block to be inserted in the base.html\n",
    "    <h1>Hi, {{ user.username }}!</h1>\n",
    "    {% for post in posts %}           # xxx for-loop\n",
    "    <div>\n",
    "        <p>{{ post.author.username }} says: \n",
    "            <b>{{ post.body }}</b>\n",
    "        </p>\n",
    "    </div>\n",
    "    {% endfor %}                      # xxx end of for-loop\n",
    "{% endblock %}                        # xxx end of block"
   ]
  },
  {
   "cell_type": "markdown",
   "metadata": {},
   "source": [
    "<div class=\"ch02-inheritance\">\n",
    "    <div style=\"float:center;margin-right:55px;\">\n",
    "        <img src=\"../images/ch02.inheritance.png\" height=\"400\" width=\"400\"  />\n",
    "        <p style=\"text-align:center;\"> ch02-inheritance </p>\n",
    "    </div>\n",
    "</div>"
   ]
  },
  {
   "cell_type": "code",
   "execution_count": 15,
   "metadata": {},
   "outputs": [
    {
     "name": "stdout",
     "output_type": "stream",
     "text": [
      " * Serving Flask app \"microblog.py\"\n",
      " * Environment: production\n",
      "\u001b[31m   WARNING: This is a development server. Do not use it in a production deployment.\u001b[0m\n",
      "\u001b[2m   Use a production WSGI server instead.\u001b[0m\n",
      " * Debug mode: off\n",
      " * Running on http://127.0.0.1:5000/ (Press CTRL+C to quit)\n",
      "^C\n",
      "\n"
     ]
    }
   ],
   "source": [
    "!flask run"
   ]
  },
  {
   "cell_type": "code",
   "execution_count": null,
   "metadata": {},
   "outputs": [],
   "source": []
  },
  {
   "cell_type": "code",
   "execution_count": null,
   "metadata": {},
   "outputs": [],
   "source": []
  },
  {
   "cell_type": "code",
   "execution_count": null,
   "metadata": {},
   "outputs": [],
   "source": []
  }
 ],
 "metadata": {
  "kernelspec": {
   "display_name": "Python 3",
   "language": "python",
   "name": "python3"
  },
  "language_info": {
   "codemirror_mode": {
    "name": "ipython",
    "version": 3
   },
   "file_extension": ".py",
   "mimetype": "text/x-python",
   "name": "python",
   "nbconvert_exporter": "python",
   "pygments_lexer": "ipython3",
   "version": "3.8.3"
  }
 },
 "nbformat": 4,
 "nbformat_minor": 2
}
