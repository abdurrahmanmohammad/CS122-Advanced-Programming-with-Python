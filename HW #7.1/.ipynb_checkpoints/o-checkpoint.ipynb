{
 "cells": [
  {
   "cell_type": "markdown",
   "metadata": {},
   "source": [
    "# HW7.1: Flask Template\n",
    "\n",
    "* Goal: produce a web page at  http:/127.0.0.1:5000/test that displays greetings as shown in the attached png file.\n",
    "\n",
    "*Instructions\n",
    "    * Download the tutorial microblog-0.2.zip at https://blog.miguelgrinberg.com/post/the-flask-mega-tutorial-part-ii-templates\n",
    "    * Test if your set up is okay by running command \"flask run\"\n",
    "    * In app/templates/base.html \n",
    "        * Add a /test link in the navigation bar \n",
    "    * In app/routes.py\n",
    "        * Add a view function for the Test link\n",
    "        * display at least three greetings in different cities by different persons\n",
    " * Grading:\n",
    "      * You will  earn the full credit if your program can produce the same result\n",
    "      * No credit will be given otherwise.\n",
    " * Reference: \n",
    "     * https://blog.miguelgrinberg.com/post/the-flask-mega-tutorial-part-ii-templates\n",
    " * Submit this file hw#8.1.ipynb that contains your work "
   ]
  },
  {
   "cell_type": "markdown",
   "metadata": {},
   "source": [
    "# Reference:\n",
    "\n",
    "* https://blog.miguelgrinberg.com/post/the-flask-mega-tutorial-part-ii-templates"
   ]
  },
  {
   "cell_type": "code",
   "execution_count": 1,
   "metadata": {},
   "outputs": [
    {
     "name": "stdout",
     "output_type": "stream",
     "text": [
      "    . .\n",
      "       hw#7.1.ipynb\n",
      "       .flaskenv\n",
      "       hw8.2.hello.png\n",
      "       .DS_Store\n",
      "       ./app app\n",
      "          .DS_Store\n",
      "          __init__.py\n",
      "          ./app/templates templates\n",
      "             index.html\n",
      "             base.html\n",
      "          routes.py\n",
      "       LICENSE\n",
      "       README.md\n",
      "       microblog.py\n",
      "       hw.7.1.many.png\n",
      "       ch02-mock-user.png\n",
      "       ch02-mock-posts.png\n",
      "       hw8.2.greeting.png\n",
      "       microblog.ipynb\n",
      "       hw8.2.many.png\n",
      "       o.ipynb\n",
      "       activate.csh\n"
     ]
    }
   ],
   "source": [
    "# Used as helper function to check dir\n",
    "import os, path\n",
    "space = \" \"*3\n",
    "def f(dir, ind):\n",
    "    print (ind,dir, os.path.basename(dir))\n",
    "    for x in os.listdir(dir):\n",
    "        a = [\".ipynb_checkpoints\",\"venv\", \"t.venv\", \"__pycache__\"]\n",
    "        if os.path.basename(x) in a: continue      # skip the above directories\n",
    "        y = os.path.join(dir, x)\n",
    "\n",
    "        if (os.path.isdir(y)):    # if y is directory, do recursive all\n",
    "            f(y, ind + space)\n",
    "        else:\n",
    "            z = ind+space         #\n",
    "            print (z,x)        \n",
    "f(\".\", space)"
   ]
  },
  {
   "cell_type": "code",
   "execution_count": 2,
   "metadata": {},
   "outputs": [],
   "source": [
    "# utility functions to read from or write to a file\n",
    "def dump(fn, d=None):\n",
    "    with open (fn, \"r\") as f:\n",
    "        for x in f: print (x.rstrip(d))\n",
    "            \n",
    "def write (fn, s):\n",
    "    with open(fn,\"w\") as f:\n",
    "        f.write(s)"
   ]
  },
  {
   "cell_type": "code",
   "execution_count": 3,
   "metadata": {},
   "outputs": [],
   "source": [
    "# app/templates/base.html \n",
    "# xxx add a /test Link in the navigation bar \n",
    "s=\"\"\"\n",
    "<html>\n",
    "    <head>\n",
    "      {% if title %}\n",
    "          <title>{{ title }} - Microblog</title>\n",
    "      {% else %}\n",
    "          <title>Welcome to Microblog</title>\n",
    "      {% endif %}\n",
    "    </head>\n",
    "    <body>\n",
    "        <div>Microblog: <a href=\"/index\">Home</a> <a href=\"/test\">Test</a> </div>  \n",
    "        <hr>\n",
    "        {% block content %}  {% endblock %}             \n",
    "    </body>\n",
    "</html>\"\"\""
   ]
  },
  {
   "cell_type": "code",
   "execution_count": 4,
   "metadata": {},
   "outputs": [
    {
     "name": "stdout",
     "output_type": "stream",
     "text": [
      "\n",
      "<html>\n",
      "    <head>\n",
      "      {% if title %}\n",
      "          <title>{{ title }} - Microblog</title>\n",
      "      {% else %}\n",
      "          <title>Welcome to Microblog</title>\n",
      "      {% endif %}\n",
      "    </head>\n",
      "    <body>\n",
      "        <div>Microblog: <a href=\"/index\">Home</a> <a href=\"/test\">Test</a> </div>\n",
      "        <hr>\n",
      "        {% block content %}  {% endblock %}\n",
      "    </body>\n",
      "</html>\n"
     ]
    }
   ],
   "source": [
    "fn = \"app/templates/base.html\"\n",
    "write(fn,s)\n",
    "dump(fn)\n"
   ]
  },
  {
   "cell_type": "markdown",
   "metadata": {},
   "source": [
    "<div class=\"hw.7.1.many.png\">\n",
    "    <div style=\"float:center;margin-right:55px;\">\n",
    "        <img src=\"hw.7.1.many.png\" height=\"400\" width=\"400\"  />\n",
    "        <p style=\"text-align:center;\"> hw.7.1.many.png </p>\n",
    "    </div>\n",
    "</div>"
   ]
  },
  {
   "cell_type": "code",
   "execution_count": 5,
   "metadata": {},
   "outputs": [
    {
     "name": "stdout",
     "output_type": "stream",
     "text": [
      "\n",
      "# app/routes.py: Fake posts in view function\n",
      "\n",
      "from flask import render_template\n",
      "from app import app\n",
      "import random\n",
      "\n",
      "@app.route('/')\n",
      "@app.route('/index')\n",
      "def index():\n",
      "    user = {'username': 'Miguel'}\n",
      "    a = 'author'\n",
      "    b = 'body'\n",
      "    u = 'username'\n",
      "    posts = [\n",
      "        {\n",
      "            a: {u: 'John'},\n",
      "            b: 'Beautiful day in Portland!'\n",
      "        },\n",
      "        {\n",
      "            a: {u: 'Susan'},\n",
      "            b : 'The Avengers movie was so cool!'\n",
      "        }\n",
      "    ]\n",
      "    return render_template('index.html', title='Home', user=user, posts=posts)\n",
      "@app.route('/test')\n",
      "def test():\n",
      "    a = 'author'\n",
      "    b = 'body'\n",
      "    u = 'username'\n",
      "    cities = [\"Portland\" , \"San Jose\", \"San Francisco\", \"New York\", \"Chicago\", \"Philadelphia\"]\n",
      "    names = [\"Joe\", \"Jessie\", \"Jonnason\", \"John\", \"Sue\", \"Susie\", \"Susan\"]\n",
      "    n = 3\n",
      "    posts = []\n",
      "    for i in range (n):\n",
      "        s = 'The best city in US to live is ' + random.choice(cities) + \"!!!\"\n",
      "        name = random.choice(names)\n",
      "        d = {a : {u : name}, b : s}\n",
      "        posts.append(d)\n",
      "    user = {'username': 'Folks'}\n",
      "    return render_template('index.html', title='Home', user=user, posts=posts)\n",
      "\n"
     ]
    }
   ],
   "source": [
    "# In app/routes.py\n",
    "# Add a view function for the Test link\n",
    "# display at least three greetings in different cities by different persons\n",
    "\n",
    "s=\"\"\"    \n",
    "# app/routes.py: Fake posts in view function\n",
    "\n",
    "from flask import render_template\n",
    "from app import app\n",
    "import random \n",
    "\n",
    "@app.route('/')\n",
    "@app.route('/index')\n",
    "def index():\n",
    "    user = {'username': 'Miguel'}\n",
    "    a = 'author'\n",
    "    b = 'body'\n",
    "    u = 'username'\n",
    "    posts = [\n",
    "        {\n",
    "            a: {u: 'John'},\n",
    "            b: 'Beautiful day in Portland!'\n",
    "        },\n",
    "        {\n",
    "            a: {u: 'Susan'},\n",
    "            b : 'The Avengers movie was so cool!'\n",
    "        }\n",
    "    ]\n",
    "    return render_template('index.html', title='Home', user=user, posts=posts)\n",
    "@app.route('/test')\n",
    "def test():\n",
    "    a = 'author'\n",
    "    b = 'body'\n",
    "    u = 'username'\n",
    "    cities = [\"Portland\" , \"San Jose\", \"San Francisco\", \"New York\", \"Chicago\", \"Philadelphia\"]\n",
    "    names = [\"Joe\", \"Jessie\", \"Jonnason\", \"John\", \"Sue\", \"Susie\", \"Susan\"]\n",
    "    n = 3\n",
    "    posts = []\n",
    "    for i in range (n):\n",
    "        s = 'The best city in US to live is ' + random.choice(cities) + \"!!!\"\n",
    "        name = random.choice(names)\n",
    "        d = {a : {u : name}, b : s}\n",
    "        posts.append(d)\n",
    "    user = {'username': 'Folks'}\n",
    "    return render_template('index.html', title='Home', user=user, posts=posts)\n",
    "    \n",
    "\"\"\"\n",
    "fn = \"app/routes.py\"\n",
    "write(fn,s)\n",
    "dump(fn)"
   ]
  },
  {
   "cell_type": "code",
   "execution_count": 6,
   "metadata": {},
   "outputs": [],
   "source": [
    "# app/templates/index.html: Inherit from base template\n",
    "\n",
    "s=\"\"\"\n",
    "{% extends \"base.html\" %}            <!--  xxx base.html inserted here -->\n",
    "\n",
    "{% block content %}                  \n",
    "    <h1>Hi, {{ user.username }}!</h1>\n",
    "    {% for post in posts %}           \n",
    "    <div>\n",
    "        <p>{{ post.author.username }} says: \n",
    "            <b>{{ post.body }}</b>\n",
    "        </p>\n",
    "    </div>\n",
    "    {% endfor %}                     \n",
    "{% endblock %}                       \n",
    "\n",
    "\"\"\" \n"
   ]
  },
  {
   "cell_type": "code",
   "execution_count": 7,
   "metadata": {},
   "outputs": [
    {
     "name": "stdout",
     "output_type": "stream",
     "text": [
      "\n",
      "{% extends \"base.html\" %}            <!--  xxx base.html inserted here -->\n",
      "\n",
      "{% block content %}\n",
      "    <h1>Hi, {{ user.username }}!</h1>\n",
      "    {% for post in posts %}\n",
      "    <div>\n",
      "        <p>{{ post.author.username }} says:\n",
      "            <b>{{ post.body }}</b>\n",
      "        </p>\n",
      "    </div>\n",
      "    {% endfor %}\n",
      "{% endblock %}\n",
      "\n"
     ]
    }
   ],
   "source": [
    "fn = \"app/templates/index.html\"\n",
    "write(fn,s)\n",
    "dump(fn)"
   ]
  },
  {
   "cell_type": "code",
   "execution_count": 8,
   "metadata": {},
   "outputs": [
    {
     "name": "stdout",
     "output_type": "stream",
     "text": [
      " * Serving Flask app \"microblog.py\"\r\n",
      " * Environment: production\r\n",
      "\u001b[31m   WARNING: This is a development server. Do not use it in a production deployment.\u001b[0m\r\n",
      "\u001b[2m   Use a production WSGI server instead.\u001b[0m\r\n",
      " * Debug mode: off\r\n",
      "Traceback (most recent call last):\r\n",
      "  File \"/Users/abdurrahmanmohammad/opt/anaconda3/bin/flask\", line 10, in <module>\r\n",
      "    sys.exit(main())\r\n",
      "  File \"/Users/abdurrahmanmohammad/opt/anaconda3/lib/python3.8/site-packages/flask/cli.py\", line 967, in main\r\n",
      "    cli.main(args=sys.argv[1:], prog_name=\"python -m flask\" if as_module else None)\r\n",
      "  File \"/Users/abdurrahmanmohammad/opt/anaconda3/lib/python3.8/site-packages/flask/cli.py\", line 586, in main\r\n",
      "    return super(FlaskGroup, self).main(*args, **kwargs)\r\n",
      "  File \"/Users/abdurrahmanmohammad/opt/anaconda3/lib/python3.8/site-packages/click/core.py\", line 782, in main\r\n",
      "    rv = self.invoke(ctx)\r\n",
      "  File \"/Users/abdurrahmanmohammad/opt/anaconda3/lib/python3.8/site-packages/click/core.py\", line 1259, in invoke\r\n",
      "    return _process_result(sub_ctx.command.invoke(sub_ctx))\r\n",
      "  File \"/Users/abdurrahmanmohammad/opt/anaconda3/lib/python3.8/site-packages/click/core.py\", line 1066, in invoke\r\n",
      "    return ctx.invoke(self.callback, **ctx.params)\r\n",
      "  File \"/Users/abdurrahmanmohammad/opt/anaconda3/lib/python3.8/site-packages/click/core.py\", line 610, in invoke\r\n",
      "    return callback(*args, **kwargs)\r\n",
      "  File \"/Users/abdurrahmanmohammad/opt/anaconda3/lib/python3.8/site-packages/click/decorators.py\", line 73, in new_func\r\n",
      "    return ctx.invoke(f, obj, *args, **kwargs)\r\n",
      "  File \"/Users/abdurrahmanmohammad/opt/anaconda3/lib/python3.8/site-packages/click/core.py\", line 610, in invoke\r\n",
      "    return callback(*args, **kwargs)\r\n",
      "  File \"/Users/abdurrahmanmohammad/opt/anaconda3/lib/python3.8/site-packages/flask/cli.py\", line 852, in run_command\r\n",
      "    run_simple(\r\n",
      "  File \"/Users/abdurrahmanmohammad/opt/anaconda3/lib/python3.8/site-packages/werkzeug/serving.py\", line 1052, in run_simple\r\n",
      "    inner()\r\n",
      "  File \"/Users/abdurrahmanmohammad/opt/anaconda3/lib/python3.8/site-packages/werkzeug/serving.py\", line 996, in inner\r\n",
      "    srv = make_server(\r\n",
      "  File \"/Users/abdurrahmanmohammad/opt/anaconda3/lib/python3.8/site-packages/werkzeug/serving.py\", line 847, in make_server\r\n",
      "    return ThreadedWSGIServer(\r\n",
      "  File \"/Users/abdurrahmanmohammad/opt/anaconda3/lib/python3.8/site-packages/werkzeug/serving.py\", line 740, in __init__\r\n",
      "    HTTPServer.__init__(self, server_address, handler)\r\n",
      "  File \"/Users/abdurrahmanmohammad/opt/anaconda3/lib/python3.8/socketserver.py\", line 452, in __init__\r\n",
      "    self.server_bind()\r\n",
      "  File \"/Users/abdurrahmanmohammad/opt/anaconda3/lib/python3.8/http/server.py\", line 138, in server_bind\r\n",
      "    socketserver.TCPServer.server_bind(self)\r\n",
      "  File \"/Users/abdurrahmanmohammad/opt/anaconda3/lib/python3.8/socketserver.py\", line 466, in server_bind\r\n",
      "    self.socket.bind(self.server_address)\r\n",
      "OSError: [Errno 48] Address already in use\r\n"
     ]
    }
   ],
   "source": [
    "!flask run"
   ]
  },
  {
   "cell_type": "raw",
   "metadata": {},
   "source": []
  },
  {
   "cell_type": "code",
   "execution_count": null,
   "metadata": {},
   "outputs": [],
   "source": []
  },
  {
   "cell_type": "code",
   "execution_count": null,
   "metadata": {},
   "outputs": [],
   "source": []
  },
  {
   "cell_type": "code",
   "execution_count": null,
   "metadata": {},
   "outputs": [],
   "source": []
  }
 ],
 "metadata": {
  "kernelspec": {
   "display_name": "Python 3",
   "language": "python",
   "name": "python3"
  },
  "language_info": {
   "codemirror_mode": {
    "name": "ipython",
    "version": 3
   },
   "file_extension": ".py",
   "mimetype": "text/x-python",
   "name": "python",
   "nbconvert_exporter": "python",
   "pygments_lexer": "ipython3",
   "version": "3.8.3"
  }
 },
 "nbformat": 4,
 "nbformat_minor": 2
}
