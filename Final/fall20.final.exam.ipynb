{
 "cells": [
  {
   "cell_type": "markdown",
   "metadata": {},
   "source": [
    "\n",
    "# CS 122-02(47791): Advanced Programming with Python\n"
   ]
  },
  {
   "cell_type": "markdown",
   "metadata": {},
   "source": [
    "# Final Exam (Written Test), Fall 2020 "
   ]
  },
  {
   "cell_type": "markdown",
   "metadata": {},
   "source": [
    "\n",
    "* Read instructions marked xxx\n",
    "* Fill in the missing codes indicated by xxx\n",
    "* You could add helper funcitons, but never delete any portion of this documents.\n",
    "* Restart Kernel & Run All before your submission to \n",
    "    * make sure your program does run throught without crash\n",
    "\n",
    "* Grading:\n",
    "    * full credit if the program output is exactly as expected\n",
    "    * 0 credit if the program output is obviously incorrect\n",
    "    * partial credit may be given at will if the program output is close to\n",
    "      the expected.\n",
    "      \n",
    "* Note that you will get 0 credits for this test if \n",
    "    * your program does not compile \n",
    "    * Your program crashes at any point\n",
    "    * you delete any texts or codes"
   ]
  },
  {
   "cell_type": "markdown",
   "metadata": {},
   "source": [
    "# A:  8-puzzle"
   ]
  },
  {
   "cell_type": "raw",
   "metadata": {},
   "source": [
    "An 8 puzzle is a simple game consisting of a m x n grid (containing m*n square tiles), where m=n = 3. \n",
    "Each tile is numbered from 0 to m*n-1. The square with number 0 is deemed as the empty space where the\n",
    "adjacent tiles can slide to.\n",
    "\n",
    "The object is to move tiles around into different positions and having the numbers displayed \n",
    "in the \"goal state\". By default, the goal state has all the numbers placed in an increasing order from left to right and then top to bottom. However, the user should be able to specify different goal state.\n",
    "\n",
    "The images below can be thought of as an unsolved initial state and goal state of the \"3 x 3\" 8 puzzle.\n",
    "\n",
    "initial state\n",
    "  3  2  5\n",
    "  4  1  0    <--- 0 represents the empty square \n",
    "  6  7  8\n",
    "  \n",
    " \n",
    " Goal state <--- numbers placed in an increasing order from left to right and then top to bottom.\n",
    " \n",
    "  0  1  2\n",
    "  3  4  5\n",
    "  6  7  8"
   ]
  },
  {
   "cell_type": "markdown",
   "metadata": {},
   "source": [
    "* You have to use \"pandas DataFrame\" to represent the state of 8-puzzle.\n",
    "    * However, when the state is printed out, there should be no column titles and row indices.\n",
    "\n",
    "* To move a tile numbered z, we first check if there is an adjacent empty square to move to.\n",
    "    * When the number moves to its adjacent empty square, change the state accordingly\n",
    "    * Otherwise, output an error message\n",
    "\n",
    "* Your codes should be scalable to k-puzzle for any number of k on a m-by-n grid where k = m*n-1. \n",
    "    * Note that m and n could be different\n",
    "\n",
    "* Below is a sample run for a given sequence of numbers to move. At the end, a message is displayed to\n",
    "\n",
    "* At the end of all the moves, indicate if the goal state is reached or not.\n",
    "    * if yes, print out the goal state."
   ]
  },
  {
   "cell_type": "code",
   "execution_count": 1,
   "metadata": {},
   "outputs": [],
   "source": [
    "import pandas as pd\n",
    "class Puzzle :\n",
    "    def __init__(self, df, move, goal=pd.DataFrame()):\n",
    "        self.df = df\n",
    "        self.move = move\n",
    "        if len(goal)==0:\n",
    "            self.goal = self.build_goal_state(goal)\n",
    "        else:\n",
    "            self.goal = goal\n",
    "        \n",
    "    def build_goal_state(self, goal):\n",
    "        \"\"\"construct a dataframe that represents the goal state that is\n",
    "           given a 2-d list. If no list is given, then construct a default goal state.\n",
    "        \"\"\"\n",
    "        # xxx fill in the missing codes\n",
    "        goal = pd.DataFrame() # Create an empty dataframe\n",
    "        m,n = self.df.shape # Get dimensions of df: m = number of rows, n = number of columns\n",
    "        for row in range(m): # For the number of rows (x-axis) in df\n",
    "            for col in range(n): # For the number of columns (y-axis) in df\n",
    "                goal.at[row,col] = row * m + col # goal[x,y] = row_num * num_rows + col_num\n",
    "        return goal.astype(int) # Convert all values to int: Remove decimal points\n",
    "        # For a 3x3 puzzle:\n",
    "        # goal[0,0] = 0; goal[0,1] = 1; goal[0,2] = 2; \n",
    "        # goal[1,0] = 3; goal[1,1] = 4; goal[1,2] = 5; \n",
    "        # goal[2,0] = 6; goal[2,1] = 7; goal[2,2] = 8; \n",
    "        \n",
    "        \n",
    "    def find(self,x):\n",
    "        \"\"\"Find the row index i and column number j for tile numbered x\n",
    "            return None, None if number x cannot be fund\n",
    "        \"\"\"\n",
    "        # xxx fill in the missing codes\n",
    "        # (Similar to lecture 12/7)\n",
    "        m,n = self.df.shape # This works for an m x n matrix\n",
    "        for row in range(m): # Traverse rows: This works for an m x n matrix\n",
    "            for col in range(n): # Traverse columns\n",
    "                y = self.df.at[row,col]\n",
    "                if self.df.at[row,col] == x:\n",
    "                    return row,col\n",
    "        return None, None\n",
    "\n",
    "    def move_a_num (self, z):\n",
    "        \"\"\" Move tile numbered z to the adjacent empty square (numbered 0) if possible.\n",
    "            If none of adjacent squares is empty (0), return False\n",
    "            Otherwise, move z to the empty square and return True\n",
    "        \"\"\"\n",
    "        # xxx fill in the missing codes\n",
    "        m,n = self.df.shape\n",
    "        i,j = self.find ( z )\n",
    "        if i==None: \n",
    "            print (z,\"is not a valid number!\")\n",
    "            return False\n",
    "        x,y = self.find ( 0 ) # find the location of the empty cell\n",
    "        if abs(i-x)+abs(j-y)==1: # if the empty cell is next to number z\n",
    "            # xxx fill in the missing codes\n",
    "            # xxx update the state accordingly due to the move\n",
    "            # (From lecture 12/7)\n",
    "            self.df.at[x,y], self.df.at[i,j] = self.df.at[i,j], self.df.at[x,y]\n",
    "            return True\n",
    "        else:\n",
    "            return False\n",
    "    \n",
    "    def isGoalState(self):\n",
    "        \"\"\"\n",
    "        Check if the current state is the goal state. The goal state has all numbers placed \n",
    "        in an increasing order for left to right and then from top to bottom.\n",
    "        return True if it is the goal state . Otherwise, return False.\n",
    "           \n",
    "        \"\"\"\n",
    "        # xxx fill in a single statement that compares self.df and self.goal\n",
    "        # xxx and return True if self.df equals to self.goal\n",
    "        return self.df.equals(self.goal) # self.df == self.goal (doesn't work)\n",
    "    \n",
    "    def move_numbers(self):\n",
    "        \"\"\"Performs a sequence of moves specified by a list of tite numbers\n",
    "        \"\"\"\n",
    "        s = \"\\nList of numbers to move\"\n",
    "        print (s, self.move, \"\\n\")\n",
    "        for x in self.move:\n",
    "            s = self.move_a_num (x)\n",
    "            if s:\n",
    "                print (\"succeed to move tile\", x)\n",
    "                print (self)\n",
    "            else:\n",
    "                print (\"Fail to move tile\", x)\n",
    "            print (\"\\n\")\n",
    "        if self.isGoalState ():\n",
    "            print (\"The goal state is reached!\")\n",
    "        else:\n",
    "            print (\"The goal state is NOT reached!\")\n",
    "        s = Puzzle.getStr(self.goal)\n",
    "        print (s)\n",
    "                          \n",
    "    @staticmethod\n",
    "    def getStr(df):\n",
    "        \"\"\" return the string that dispaly dataframe df like a matrix \n",
    "            (without column titles and row index column)\n",
    "        \"\"\"\n",
    "        # fill in the missing codes\n",
    "        # (From lecture 12/7)\n",
    "        m,n = df.shape\n",
    "        df_ = df.copy()\n",
    "        df_.columns = ['']*n\n",
    "        df_.index = ['' for _ in range(m)]\n",
    "        return str(df_)\n",
    "    \n",
    "    def __str__(self):\n",
    "        \"\"\" print out dataframe df without column titles and row index column\n",
    "        \"\"\"\n",
    "        return Puzzle.getStr(self.df)"
   ]
  },
  {
   "cell_type": "markdown",
   "metadata": {},
   "source": [
    "# Test Function"
   ]
  },
  {
   "cell_type": "code",
   "execution_count": 2,
   "metadata": {},
   "outputs": [],
   "source": [
    "import pandas as pd\n",
    "\n",
    "def test_8_puzzle (init_state,moves, goal=None ):\n",
    "    init_state = pd.DataFrame (init_state)\n",
    "    goal = pd.DataFrame (goal)\n",
    "\n",
    "    p = Puzzle (init_state,moves, goal)\n",
    "    print (\"The initial state: \")\n",
    "    print (p)\n",
    "    p.move_numbers()               # perform the moves specified by the list of title numbers."
   ]
  },
  {
   "cell_type": "markdown",
   "metadata": {},
   "source": [
    "# (10pt) A1:  Test 8-puzzle on 3-by-3 grid "
   ]
  },
  {
   "cell_type": "code",
   "execution_count": 3,
   "metadata": {},
   "outputs": [
    {
     "name": "stdout",
     "output_type": "stream",
     "text": [
      "The initial state: \n",
      "         \n",
      "  3  2  5\n",
      "  4  1  0\n",
      "  6  7  8\n",
      "\n",
      "List of numbers to move [5, 2, 1, 3, 6] \n",
      "\n",
      "succeed to move tile 5\n",
      "         \n",
      "  3  2  0\n",
      "  4  1  5\n",
      "  6  7  8\n",
      "\n",
      "\n",
      "succeed to move tile 2\n",
      "         \n",
      "  3  0  2\n",
      "  4  1  5\n",
      "  6  7  8\n",
      "\n",
      "\n",
      "succeed to move tile 1\n",
      "         \n",
      "  3  1  2\n",
      "  4  0  5\n",
      "  6  7  8\n",
      "\n",
      "\n",
      "Fail to move tile 3\n",
      "\n",
      "\n",
      "Fail to move tile 6\n",
      "\n",
      "\n",
      "The goal state is NOT reached!\n",
      "         \n",
      "  0  1  2\n",
      "  3  4  5\n",
      "  6  7  8\n"
     ]
    }
   ],
   "source": [
    "\n",
    "a=[ [3,2,5], [4,1,0], [6,7,8] ] # initial state in a 2-d list\n",
    "b=[5, 2, 1, 3, 6]            # the list of numbered tiles to be moved in sequence            \n",
    "\n",
    "test_8_puzzle(a,b)"
   ]
  },
  {
   "cell_type": "raw",
   "metadata": {},
   "source": [
    "The initial state: \n",
    "         \n",
    "The initial state: \n",
    "         \n",
    "  3  2  5\n",
    "  4  1  0\n",
    "  6  7  8\n",
    "\n",
    "List of numbers to move [5, 2, 1, 3, 6] \n",
    "\n",
    "succeed to move tile 5\n",
    "         \n",
    "  3  2  0\n",
    "  4  1  5\n",
    "  6  7  8\n",
    "\n",
    "\n",
    "succeed to move tile 2\n",
    "         \n",
    "  3  0  2\n",
    "  4  1  5\n",
    "  6  7  8\n",
    "\n",
    "\n",
    "succeed to move tile 1\n",
    "         \n",
    "  3  1  2\n",
    "  4  0  5\n",
    "  6  7  8\n",
    "\n",
    "\n",
    "Fail to move tile 3\n",
    "\n",
    "\n",
    "Fail to move tile 6\n",
    "\n",
    "\n",
    "The goal state is NOT reached!\n",
    "         \n",
    "  0  1  2\n",
    "  3  4  5\n",
    "  6  7  8"
   ]
  },
  {
   "cell_type": "markdown",
   "metadata": {},
   "source": [
    "# (10pt)  A2: Test 11-puzzle on 4-by-3 grid "
   ]
  },
  {
   "cell_type": "code",
   "execution_count": 4,
   "metadata": {},
   "outputs": [
    {
     "name": "stdout",
     "output_type": "stream",
     "text": [
      "The initial state: \n",
      "           \n",
      "  3   2   5\n",
      "  4   1   0\n",
      "  6   7   8\n",
      "  9  10  11\n",
      "\n",
      "List of numbers to move [5, 2, 1, 4, 3, 6] \n",
      "\n",
      "succeed to move tile 5\n",
      "           \n",
      "  3   2   0\n",
      "  4   1   5\n",
      "  6   7   8\n",
      "  9  10  11\n",
      "\n",
      "\n",
      "succeed to move tile 2\n",
      "           \n",
      "  3   0   2\n",
      "  4   1   5\n",
      "  6   7   8\n",
      "  9  10  11\n",
      "\n",
      "\n",
      "succeed to move tile 1\n",
      "           \n",
      "  3   1   2\n",
      "  4   0   5\n",
      "  6   7   8\n",
      "  9  10  11\n",
      "\n",
      "\n",
      "succeed to move tile 4\n",
      "           \n",
      "  3   1   2\n",
      "  0   4   5\n",
      "  6   7   8\n",
      "  9  10  11\n",
      "\n",
      "\n",
      "succeed to move tile 3\n",
      "           \n",
      "  0   1   2\n",
      "  3   4   5\n",
      "  6   7   8\n",
      "  9  10  11\n",
      "\n",
      "\n",
      "Fail to move tile 6\n",
      "\n",
      "\n",
      "The goal state is reached!\n",
      "           \n",
      "  0   1   2\n",
      "  3   4   5\n",
      "  6   7   8\n",
      "  9  10  11\n"
     ]
    }
   ],
   "source": [
    "   \n",
    "init_state =[ [3,2,5], [4,1,0], [6,7,8],[9,10,11] ] # initial state in a 2-d list\n",
    "moves=[5, 2, 1, 4, 3, 6]            # the list of numbered tiles to be moved in sequence            \n",
    "goal = [ [0,1,2], [3,4,5], [6,7,8], [9,10,11] ] # initial state in a 2-d list\n",
    "\n",
    "test_8_puzzle(init_state, moves, goal)"
   ]
  },
  {
   "cell_type": "raw",
   "metadata": {},
   "source": [
    "# The expected program output\n",
    "\n",
    "The initial state: \n",
    "           \n",
    "  3   2   5\n",
    "  4   1   0\n",
    "  6   7   8\n",
    "  9  10  11\n",
    "\n",
    "List of numbers to move [5, 2, 1, 4, 3, 6] \n",
    "\n",
    "succeed to move tile 5\n",
    "           \n",
    "  3   2   0\n",
    "  4   1   5\n",
    "  6   7   8\n",
    "  9  10  11\n",
    "\n",
    "\n",
    "succeed to move tile 2\n",
    "           \n",
    "  3   0   2\n",
    "  4   1   5\n",
    "  6   7   8\n",
    "  9  10  11\n",
    "\n",
    "\n",
    "succeed to move tile 1\n",
    "           \n",
    "  3   1   2\n",
    "  4   0   5\n",
    "  6   7   8\n",
    "  9  10  11\n",
    "\n",
    "\n",
    "succeed to move tile 4\n",
    "           \n",
    "  3   1   2\n",
    "  0   4   5\n",
    "  6   7   8\n",
    "  9  10  11\n",
    "\n",
    "\n",
    "succeed to move tile 3\n",
    "           \n",
    "  0   1   2\n",
    "  3   4   5\n",
    "  6   7   8\n",
    "  9  10  11\n",
    "\n",
    "\n",
    "Fail to move tile 6\n",
    "\n",
    "\n",
    "The goal state is reached!\n",
    "           \n",
    "  0   1   2\n",
    "  3   4   5\n",
    "  6   7   8\n",
    "  9  10  11"
   ]
  },
  {
   "cell_type": "markdown",
   "metadata": {},
   "source": [
    "# B: The Travelling salesperson Problem (TSP)"
   ]
  },
  {
   "cell_type": "markdown",
   "metadata": {},
   "source": [
    "* The travelling salesperson problem (TSP) asks the following question: \n",
    "\n",
    "    * Given a list of cities with x- and y-coordinate, \n",
    "    * what is the shortest possible route (tour) \n",
    "        * that visits each city exactly once and \n",
    "        * returns to the origin city?\""
   ]
  },
  {
   "cell_type": "markdown",
   "metadata": {},
   "source": [
    "* We will use Pyplot to plot the TSP tour\n",
    "    * A good tutorial is given at \n",
    "        * https://matplotlib.org/tutorials/introductory/pyplot.html"
   ]
  },
  {
   "cell_type": "markdown",
   "metadata": {},
   "source": [
    "# Define class Point to represent city locations"
   ]
  },
  {
   "cell_type": "code",
   "execution_count": 5,
   "metadata": {},
   "outputs": [],
   "source": [
    "import random\n",
    "\n",
    "import math\n",
    "import time\n",
    "import matplotlib.pyplot as plt \n",
    "from urllib.request import urlopen\n",
    "import itertools \n",
    "\n",
    "class Point:\n",
    "    def __init__(self, x,y):\n",
    "        \"\"\" Constructor\n",
    "        \"\"\"\n",
    "        self.x = x;\n",
    "        self.y = y\n",
    "                        \n",
    "    def __str__(self ):\n",
    "        \"\"\"The string representation for the object\n",
    "        \"\"\"\n",
    "        # xxx fill in the missing codes\n",
    "        # (From practice final)\n",
    "        return \"(\" + str( self.x)  + \",\" + str (self.y) + \")\"\n",
    "\n",
    "    def __repr__(self ):\n",
    "        \"\"\"The string representation for the object\n",
    "        \"\"\"\n",
    "        # xxx fill in the missing codes\n",
    "        # (From practice final)\n",
    "        return \"(\" + str( self.x)  + \",\" + str (self.y) + \")\"\n",
    "                \n",
    "    def dist2 (self, q):\n",
    "        \"\"\" The square of Euclidean distance of points self and q.\n",
    "            It will be an integer if the all coordiantes are integers\n",
    "        \"\"\"\n",
    "        # xxx fill in the missing codes\n",
    "        # (From practice final)\n",
    "        dx = self.x - q.x\n",
    "        dy = self.y - q.y\n",
    "        \n",
    "        return dx*dx + dy*dy\n",
    "    \n",
    "    def dist (self, q):\n",
    "        \"\"\" The Euclidean distance of points self and q.\n",
    "            It will be an integer if the all coordiantes are integers\n",
    "        \"\"\"\n",
    "        return math.sqrt( self.dist2(q))\n",
    "\n",
    "    def plot (self, label =\"\"):\n",
    "        \"\"\"Plot Point self with label\n",
    "        \"\"\"\n",
    "        x = self.x\n",
    "        y = self.y\n",
    "        \n",
    "        # https://queirozf.com/entries/add-labels-and-text-to-matplotlib-plots-annotation-examples\n",
    "        plt.text(x,y, str(self))\n",
    "        plt.plot(x,y,'ro', label=label )\n",
    "        \n",
    "    def plotline (self, q, label= \"\" ):\n",
    "        \"\"\"Plot the line segment from Point self to Point q\n",
    "        \"\"\"\n",
    "        # xxx fill in the missing codes\n",
    "        # plt.plot([1st x, 2nd x], [1st y, 2nd y],'.r--') # r = red, -- means dashes\n",
    "        plt.plot([self.x, q.x], [self.y, q.y],'r--')\n",
    "        \n",
    "        "
   ]
  },
  {
   "cell_type": "markdown",
   "metadata": {},
   "source": [
    "# (5pt) B1:  Test class Point"
   ]
  },
  {
   "cell_type": "code",
   "execution_count": 6,
   "metadata": {},
   "outputs": [
    {
     "data": {
      "image/png": "[encoded data removed]",
      "text/plain": [
       "<Figure size 432x288 with 1 Axes>"
      ]
     },
     "metadata": {
      "needs_background": "light"
     },
     "output_type": "display_data"
    }
   ],
   "source": [
    "\n",
    "def test_Point ():\n",
    "    a = [(9,5), (9,4), (10,4), (10,1), (8,1), (5,1), (3,2), (1,2), (7,7)]\n",
    "    points = []\n",
    "    for x,y in a:\n",
    "        p = Point (x,y)\n",
    "        points += [p]\n",
    "        p.plot()\n",
    "    return points\n",
    "    \n",
    "points = test_Point()\n",
    "\n",
    "q = points[-1]\n",
    "for p in points:\n",
    "    p.plotline (q)\n",
    "    q = p"
   ]
  },
  {
   "cell_type": "markdown",
   "metadata": {},
   "source": [
    "# Expected outputs:\n",
    "\n",
    "<div>\n",
    "    <div class=\"tsp.tour.png\">\n",
    "    <div style=\"float:left;margin-right:15px;\">\n",
    "        <img src=\"tsp.tour.png\" height=\"400\" width=\"400\"  />\n",
    "        <p style=\"text-align:center;\"> tsp.tour.png </p>\n",
    "    </div>\n",
    "\n",
    "</div>"
   ]
  },
  {
   "cell_type": "markdown",
   "metadata": {},
   "source": [
    "# Read city locations from a text file "
   ]
  },
  {
   "cell_type": "code",
   "execution_count": 7,
   "metadata": {
    "scrolled": false
   },
   "outputs": [],
   "source": [
    "import re\n",
    "    \n",
    "        \n",
    "def readFromFile (name):\n",
    "    \"\"\"read an input file in the following format, and \n",
    "        return a list of objects of class Point\n",
    "        # testcase test_13.txt\n",
    "        0: (9,5)       \n",
    "        1: (10,1)\n",
    "        2: (10,4)\n",
    "        ...\n",
    "        8: (1,2)\n",
    "    \"\"\"\n",
    "    print (\"open file \" + name + \" for read.\")\n",
    "    \n",
    "    # xxx fill in the missing codes\n",
    "    points = [] # Stores the points to return\n",
    "    pattern = '(\\d+): \\((\\d+),(\\d+)\\)' # REGEX pattren to match the input format and group the digits\n",
    "    \n",
    "    with open(name) as file: # Open the file\n",
    "        string = file.read() # Read all the lines and store in the variable string\n",
    "        result = re.findall(pattern, string) # Find all the occurrences of the pattern in the string\n",
    "        for point in result: # For each pattern string\n",
    "            points.append(Point(int(point[1]), int(point[2]))) # Use the groups to get integers and make points\n",
    "    return points # Return points created from input file data"
   ]
  },
  {
   "cell_type": "code",
   "execution_count": 8,
   "metadata": {},
   "outputs": [],
   "source": [
    "# list of the testcases\n",
    "a = [\"test_13.txt\", \"test_grid_3.txt\",\"test_grid_4.txt\",\"test_48.txt\",\"test_grid_4.2.txt\", \"test_simple.txt\"]"
   ]
  },
  {
   "cell_type": "markdown",
   "metadata": {},
   "source": [
    "# (5pt) B2:  Test readFromFile"
   ]
  },
  {
   "cell_type": "code",
   "execution_count": 9,
   "metadata": {},
   "outputs": [
    {
     "name": "stdout",
     "output_type": "stream",
     "text": [
      "open file test_13.txt for read.\n",
      "[(9,5), (10,1), (10,4), (5,1), (7,7), (3,2), (8,1), (9,4), (1,2)]\n"
     ]
    }
   ],
   "source": [
    "fn = a[0]\n",
    "points = readFromFile(fn)\n",
    "print (points) "
   ]
  },
  {
   "cell_type": "markdown",
   "metadata": {},
   "source": [
    "### The expected outputs\n",
    "\n",
    "* open file test_13.txt for read.\n",
    "* [(9,5), (10,1), (10,4), (5,1), (7,7), (3,2), (8,1), (9,4), (1,2)]"
   ]
  },
  {
   "cell_type": "markdown",
   "metadata": {},
   "source": [
    "# (5pt) B3:  Test readFromFile"
   ]
  },
  {
   "cell_type": "code",
   "execution_count": 10,
   "metadata": {},
   "outputs": [
    {
     "name": "stdout",
     "output_type": "stream",
     "text": [
      "open file test_grid_3.txt for read.\n",
      "[(0,0), (1,0), (2,0), (0,1), (1,1), (2,1), (0,2), (1,2), (2,2)]\n"
     ]
    }
   ],
   "source": [
    "fn = a[1]\n",
    "points = readFromFile(fn)\n",
    "print (points) "
   ]
  },
  {
   "cell_type": "markdown",
   "metadata": {},
   "source": [
    "### The expected outputs\n",
    "\n",
    "* open file test_grid_3.txt for read.\n",
    "* [(0,0), (1,0), (2,0), (0,1), (1,1), (2,1), (0,2), (1,2), (2,2)]"
   ]
  },
  {
   "cell_type": "markdown",
   "metadata": {},
   "source": [
    "# Define Class Tour"
   ]
  },
  {
   "cell_type": "code",
   "execution_count": 11,
   "metadata": {},
   "outputs": [],
   "source": [
    "import pandas as pd\n",
    "import copy\n",
    "\n",
    "def nearest (p, cities):\n",
    "    \"\"\"Find the city from list cities that is the nearest to the current city p\n",
    "    \"\"\"\n",
    "    # xxx fill in the missing codes\n",
    "    # Check if cities list is empty\n",
    "    if len(cities) == 0:\n",
    "        return None\n",
    "    # nearest: Stores the nearest Point to p with the distance\n",
    "    # nearest: Initialize with first city in cities list\n",
    "    nearest = (cities[0], p.dist(cities[0])) \n",
    "    # Iterate over all the cities to find the nearest city\n",
    "    for city in cities: \n",
    "        distance = p.dist(city) # Calculate distance between p and this city \n",
    "        if distance < nearest[1]: # If this city is closer in distance\n",
    "            nearest = (city, distance) # Replace old point with nearer point\n",
    "    return nearest[0] # Return the nearest city\n",
    "    \n",
    "\n",
    "def nearestNeighbor (self):\n",
    "    \"\"\"construct a TSP tour by Nearest Neighbor heuristic and save it in self.ans\n",
    "       The results is a list of Points like self.city but in a different \n",
    "       order. \n",
    "    \"\"\"\n",
    "    # xxx fill in the missing codes\n",
    "    origin = self.city[0]\n",
    "    self.ans.append(origin) # Set origin: add first city as origin\n",
    "    cities = copy.deepcopy(self.city[1:]) # Copy list of cities\n",
    "        \n",
    "    for i in range(len(cities)):\n",
    "        pt = nearest(origin, cities)\n",
    "        cities.remove(pt)\n",
    "        self.ans.append(pt)\n",
    "        origin = pt\n",
    "\n",
    "def convertPoint2List (points):\n",
    "    x = [];\n",
    "    y = [];\n",
    "    for p in points :\n",
    "        x.append (p.x)\n",
    "        y.append (p.y)\n",
    "    x.append (points[0].x)\n",
    "    y.append (points[0].y)\n",
    "    return x,y\n",
    "\n",
    "# reference: https://matplotlib.org/tutorials/introductory/pyplot.html\n",
    "def plot(self):\n",
    "    \"\"\"Plot the tour by matplotlib.pyplot with\n",
    "        * xlable and ylable displayed\n",
    "        * title = \"TSP by neighbor neighbor length=...\" \n",
    "        * legend\n",
    "        * the coordinates for the 1st and 2nd points \n",
    "        \n",
    "        Sample outputs are shown below\n",
    "    \"\"\"\n",
    "    x,y = convertPoint2List(self.ans)\n",
    "\n",
    "    plt.plot(x,y,  'bo-', label = \"tsp\" )\n",
    "    \n",
    "    self.ans[0].plot(\"1st\")\n",
    "    self.ans[1].plot(\"2nd\")\n",
    "\n",
    "    plt.xlabel('x - axis') \n",
    "    plt.ylabel('y - axis') \n",
    "    d = self.__len__()\n",
    "    msg = \"TSP by neighbor neighbor length={:.2f}\".format(d)\n",
    "    plt.title( msg )   \n",
    "    plt.legend() \n",
    "    plt.show()\n",
    "    print (\"Tour length = %.2f\" % d )\n",
    "    print(self.ans)\n",
    "        \n",
    "class Tour:\n",
    "    \"\"\"Two lists of cities, one for initial list, one for the resulting tour\n",
    "    \"\"\"\n",
    "    def __init__ (self, f):\n",
    "        \"\"\"Initialized a list of Points from coordinates in a file \n",
    "        \"\"\"\n",
    "        self.city = readFromFile(f)\n",
    "        self.ans = []\n",
    "\n",
    "    def __str__ (self):\n",
    "        \"\"\"the string representation\n",
    "        \"\"\"\n",
    "        msg = \"\"\n",
    "        for p in self.ans:\n",
    "            msg += \" \" + str(p)\n",
    "        return msg\n",
    "                    \n",
    "    def __len__ (self):\n",
    "        \"\"\"return the length of TSP tour\n",
    "        \"\"\"\n",
    "        # xxx fill in the missing codes\n",
    "        totalDistance = 0\n",
    "        for i in range (len(self.ans) - 1, -1, -1): # Iterate backward to avoid index out of bounds\n",
    "            totalDistance += self.ans[i].dist(self.ans[i-1]) # Get distance from this point to previous point\n",
    "        return totalDistance # Return total distance of walk/path\n",
    "\n",
    "Tour.plot = plot\n",
    "\n",
    "Tour.nearestNeighbor = nearestNeighbor"
   ]
  },
  {
   "cell_type": "markdown",
   "metadata": {},
   "source": [
    "# (5pt) B4: Test class Tour"
   ]
  },
  {
   "cell_type": "code",
   "execution_count": 12,
   "metadata": {},
   "outputs": [
    {
     "name": "stdout",
     "output_type": "stream",
     "text": [
      "open file test_13.txt for read.\n"
     ]
    },
    {
     "data": {
      "image/png": "[encoded data removed]",
      "text/plain": [
       "<Figure size 432x288 with 1 Axes>"
      ]
     },
     "metadata": {
      "needs_background": "light"
     },
     "output_type": "display_data"
    },
    {
     "name": "stdout",
     "output_type": "stream",
     "text": [
      "Tour length = 24.87\n",
      "[(9,5), (9,4), (10,4), (10,1), (8,1), (5,1), (3,2), (1,2), (7,7)]\n",
      "open file test_48.txt for read.\n"
     ]
    },
    {
     "data": {
      "image/png": "[encoded data removed]",
      "text/plain": [
       "<Figure size 432x288 with 1 Axes>"
      ]
     },
     "metadata": {
      "needs_background": "light"
     },
     "output_type": "display_data"
    },
    {
     "name": "stdout",
     "output_type": "stream",
     "text": [
      "Tour length = 40526.42\n",
      "[(6734,1453), (6898,1885), (7392,2244), (7545,2801), (7509,3239), (7462,3590), (7573,3716), (7541,3981), (7248,3779), (7352,4506), (7608,4458), (7762,4595), (7732,4723), (7555,4819), (7280,4899), (7611,5184), (6807,2993), (6426,3173), (6347,2683), (5989,2873), (5468,2606), (5199,2182), (4612,2035), (4307,2322), (4706,2674), (4483,3369), (5185,3258), (5900,3561), (6271,2135), (5530,1424), (6101,1110), (6107,669), (4985,140), (4608,1198), (3177,756), (3082,1644), (3023,1942), (3484,2829), (3245,3305), (1633,2809), (1112,2049), (1916,1569), (675,1006), (401,841), (23,2216), (10,2676), (2233,10), (7265,1268)]\n"
     ]
    }
   ],
   "source": [
    "def test_tsp():\n",
    "    a = [ \"test_13.txt\", \"test_48.txt\"]\n",
    "    for f in a:\n",
    "        tsp = Tour(f)\n",
    "        tsp.nearestNeighbor()\n",
    "        tsp.plot()       \n",
    "test_tsp()    # exptected outputs are shown below"
   ]
  },
  {
   "cell_type": "markdown",
   "metadata": {},
   "source": [
    "# The exptected outputs \n",
    "<div class=\"tsp.png\">\n",
    "    <div style=\"float:left;margin-right:15px;\">\n",
    "        <img src=\"tsp.13.png\" height=\"400\" width=\"400\"  />\n",
    "        <p style=\"text-align:center;\"> tsp.13.png </p>\n",
    "    </div>\n",
    "\n",
    "</div>"
   ]
  },
  {
   "cell_type": "markdown",
   "metadata": {},
   "source": [
    "# The exptected outputs \n",
    "\n",
    "<div class=\"tsp.png\">\n",
    "    <div style=\"float:left;margin-right:5px;\">\n",
    "        <img src=\"tsp.48.png\" height=\"550\" width=\"550\"  />\n",
    "        <p style=\"text-align:center;\"> tsp.48.png </p>\n",
    "    </div>\n",
    "</div>"
   ]
  },
  {
   "cell_type": "markdown",
   "metadata": {},
   "source": [
    "# C :  Plot the trend of precipitation and temperature changes"
   ]
  },
  {
   "cell_type": "code",
   "execution_count": 13,
   "metadata": {},
   "outputs": [
    {
     "ename": "SyntaxError",
     "evalue": "invalid syntax (<ipython-input-13-2e3f8702f5cb>, line 1)",
     "output_type": "error",
     "traceback": [
      "\u001b[0;36m  File \u001b[0;32m\"<ipython-input-13-2e3f8702f5cb>\"\u001b[0;36m, line \u001b[0;32m1\u001b[0m\n\u001b[0;31m    * You are given the following file that contains all the weather data measured by station id = 'USC00047916'\u001b[0m\n\u001b[0m          ^\u001b[0m\n\u001b[0;31mSyntaxError\u001b[0m\u001b[0;31m:\u001b[0m invalid syntax\n"
     ]
    }
   ],
   "source": [
    "* You are given the following file that contains all the weather data measured by station id = 'USC00047916' \n",
    "* weather_Station(station_id='USC00047916', latitude=36.9878, longitude=-121.9994, elevation=21.3, state='CA', name='SANTA CRUZ', start=1893, end=2020).txt\n",
    "\n",
    "* Similar to Q1 of HW#6.1, retrieve and process the data from the starter file and then\n",
    "  display the trend of  average precipitation, min-, and max-temperature change from 1893 to 2020\n",
    "\n",
    "* The exptected output is shown below\n",
    "\n",
    "* Group data by year, and choose the Mean columns only, take their average (mean)  and  display the line plot as shown\n",
    "\n",
    "* Put all the your program in a single below."
   ]
  },
  {
   "cell_type": "code",
   "execution_count": 14,
   "metadata": {},
   "outputs": [
    {
     "data": {
      "text/plain": [
       "<matplotlib.axes._subplots.AxesSubplot at 0x7f7f8519edc0>"
      ]
     },
     "execution_count": 14,
     "metadata": {},
     "output_type": "execute_result"
    },
    {
     "data": {
      "image/png": "[encoded data removed]",
      "text/plain": [
       "<Figure size 1152x288 with 1 Axes>"
      ]
     },
     "metadata": {
      "needs_background": "light"
     },
     "output_type": "display_data"
    },
    {
     "data": {
      "image/png": "[encoded data removed]",
      "text/plain": [
       "<Figure size 1152x288 with 1 Axes>"
      ]
     },
     "metadata": {
      "needs_background": "light"
     },
     "output_type": "display_data"
    },
    {
     "data": {
      "image/png": "[encoded data removed]",
      "text/plain": [
       "<Figure size 1152x288 with 1 Axes>"
      ]
     },
     "metadata": {
      "needs_background": "light"
     },
     "output_type": "display_data"
    }
   ],
   "source": [
    "import pandas as pd\n",
    "\n",
    "# xxx read in all the weather data from the given text file\n",
    "fn = \"weather_Station(station_id='USC00047916', latitude=36.9878, longitude=-121.9994, elevation=21.3, state='CA', name='SANTA CRUZ', start=1893, end=2020).txt\" \n",
    "\n",
    "with open( fn ) as weather_file:\n",
    "    weather = weather_file.read()\n",
    "\n",
    "\n",
    "def parse_line(line):\n",
    "    \"\"\" parses line of weather data\n",
    "        removes values of -9999 (missing value)\n",
    "    \"\"\"\n",
    "    \n",
    "    # return None if line is empty\n",
    "    if not line:\n",
    "        return None\n",
    "    \n",
    "    # split out first 4 fields and string containing temperature values\n",
    "    record = (line[:11], int(line[11:15]), int(line[15:17]), line[17:21])\n",
    "    temperature_string = line[21:]\n",
    "    \n",
    "    # raise exception if the temperature string is too short\n",
    "    if len(temperature_string) < 248:\n",
    "        raise ValueError(\"String not long enough - {} {}\".format(temperature_string, str(line)))\n",
    "        \n",
    "    # use a list comprehension on the temperature_string to extract and convert the \n",
    "    values = [float(temperature_string[i:i + 5])/10 for i in range(0, 248, 8)\n",
    "              if not temperature_string[i:i + 5].startswith(\"-9999\")]\n",
    "    \n",
    "    # get the number of values, the max and min, and calculate average\n",
    "    count = len(values)\n",
    "    tmax = round(max(values), 1)\n",
    "    tmin = round(min(values), 1)\n",
    "    mean = round(sum(values)/count, 1)\n",
    "\n",
    "    # add the temperature summary values to the record fields extracted earlier and return\n",
    "    return record + (tmax, tmin, mean, count)\n",
    "\n",
    "# process all weather data\n",
    "# list comprehension, will not parse empty lines\n",
    "\n",
    "# xxx fill in the missing codes below\n",
    "# xxx partial solution is given below\n",
    "\n",
    "\"\"\"\n",
    "weather_data = [parse_line(x) ... ]\n",
    "\n",
    "tmax_data = [... ]\n",
    "tmin_data = [... ]\n",
    "prcp_data = [... ]\n",
    "\n",
    "tmax_df = ...\n",
    "tmin_df = ...\n",
    "prcp_df = ...\n",
    "\n",
    "# Group data by year, and choose the Mean columns only, take their average (mean)  and  display the line plot as shown\n",
    "a = ['Year', 'Mean']\n",
    "...\n",
    "...\n",
    "...\n",
    "\"\"\"\n",
    "# ********** Copy from HW 6.1 **********\n",
    "import pandas as pd\n",
    "%matplotlib inline\n",
    "a = ['Station', 'Year', 'Month', 'Element', 'Max', 'Min', 'Mean', 'Days']\n",
    "\n",
    "weather_data = [parse_line(x) for x in weather.split(\"\\n\") if x]\n",
    "\n",
    "tmax_data = [x for x in weather_data if x[3] == 'TMAX']\n",
    "tmin_data = [x for x in weather_data if x[3] == 'TMIN']\n",
    "prcp_data = [x for x in weather_data if x[3] == 'PRCP']\n",
    "\n",
    "tmax_df = pd.DataFrame(tmax_data, columns=a)\n",
    "tmin_df = pd.DataFrame(tmin_data, columns=a)\n",
    "prcp_df = pd.DataFrame(prcp_data, columns=a)\n",
    "\n",
    "# Group data by year, and choose the Mean columns only, take their average (mean)  and  display the line plot as shown\n",
    "a = ['Year', 'Mean']\n",
    "prcp_df[a].groupby('Year').mean().plot(title='Average Precipitation', kind='line', figsize=(16, 4))\n",
    "tmax_df[a].groupby('Year').mean().plot(title='Average Highest Temperature', kind='line', figsize=(16, 4))\n",
    "tmin_df[a].groupby('Year').mean().plot(title='Average Lowest Temperature', kind='line', figsize=(16, 4))\n"
   ]
  },
  {
   "cell_type": "markdown",
   "metadata": {},
   "source": [
    "# (5pt) C1: The expected plot of the average precipitation change over years"
   ]
  },
  {
   "cell_type": "code",
   "execution_count": null,
   "metadata": {},
   "outputs": [],
   "source": [
    "from IPython.display import Image\n",
    "Image(filename='mean.prep.png')"
   ]
  },
  {
   "cell_type": "markdown",
   "metadata": {},
   "source": [
    "# (5pt) C2: The expected plot of average Highest Temparature change over years"
   ]
  },
  {
   "cell_type": "code",
   "execution_count": null,
   "metadata": {},
   "outputs": [],
   "source": [
    "Image(filename='mean.tmax.png')"
   ]
  },
  {
   "cell_type": "markdown",
   "metadata": {},
   "source": [
    "# (5pt) C3: The expected plot of average Lowest Temparature change over years"
   ]
  },
  {
   "cell_type": "code",
   "execution_count": null,
   "metadata": {
    "scrolled": true
   },
   "outputs": [],
   "source": [
    "Image(filename='mean.tmin.png')"
   ]
  },
  {
   "cell_type": "markdown",
   "metadata": {},
   "source": [
    "# D:  Pandas DataFrame"
   ]
  },
  {
   "cell_type": "markdown",
   "metadata": {},
   "source": [
    "# (5pt)    D.1\n",
    "\n",
    "* In the code snippet below, add the codes to \n",
    "    * append a new row 'k' to DataFrame with all values set to None \n",
    "    * append a new column 'column' to DataFrame with all values set to None "
   ]
  },
  {
   "cell_type": "code",
   "execution_count": null,
   "metadata": {},
   "outputs": [],
   "source": [
    "import pandas as pd\n",
    "import numpy as np\n",
    "exam_data  = {'name': ['Anastasia', 'Dima', 'Katherine', 'James', 'Emily', 'Michael', 'Matthew', 'Laura', 'Kevin', 'Jonas'],\n",
    "        'score': [12.5, 9, 16.5, np.nan, 9, 20, 14.5, np.nan, 8, 19],\n",
    "        'attempts': [1, 3, 2, 3, 2, 3, 1, 1, 2, 1],\n",
    "        'qualify': ['yes', 'no', 'yes', 'no', 'no', 'yes', 'yes', 'no', 'no', 'yes']}\n",
    "labels = ['a', 'b', 'c', 'd', 'e', 'f', 'g', 'h', 'i', 'j']\n",
    "df = pd.DataFrame(exam_data , index=labels)\n",
    "\n",
    "# xxx 1. add a single statement to add new row 'k'  with all values set to None\n",
    "# xxx fill in the missing codes.\n",
    "\n",
    "df.loc['k'] = [None]*df.shape[1]\n",
    "\n",
    "# xxx 2. add a single statement to delete column \"score\"\n",
    "# xxx fill in the missing codes.\n",
    "# You can use either statement. Both perform the delete.\n",
    "#del df['score']\n",
    "df.drop('score', inplace=True, axis=1)\n",
    "\n",
    "# xxx 3. add a single statement to add new column 'color' with all values set to None\n",
    "# xxx fill in the missing codes.\n",
    "df['color'] = [None]*df.shape[0]\n",
    "\n",
    "\n",
    "print(\"New DataFrame after inserting row 'k' and column 'color' \")\n",
    "print(df)"
   ]
  },
  {
   "cell_type": "code",
   "execution_count": null,
   "metadata": {},
   "outputs": [],
   "source": [
    "# Expected Output:\n",
    "\n",
    "New DataFrame after inserting row 'k' and column 'color' \n",
    "        name attempts qualify color\n",
    "a  Anastasia        1     yes  None\n",
    "b       Dima        3      no  None\n",
    "c  Katherine        2     yes  None\n",
    "d      James        3      no  None\n",
    "e      Emily        2      no  None\n",
    "f    Michael        3     yes  None\n",
    "g    Matthew        1     yes  None\n",
    "h      Laura        1      no  None\n",
    "i      Kevin        2      no  None\n",
    "j      Jonas        1     yes  None\n",
    "k       None     None    None  None"
   ]
  },
  {
   "cell_type": "markdown",
   "metadata": {},
   "source": [
    "# (5pt)   D.2\n",
    "\n",
    "* In the code snippet below, add the codes to \n",
    "    * replace all th Nan numbers with 0\n",
    "    * double the numbers in column 'score' \n",
    "    * Then, square the numbers in column 'score'"
   ]
  },
  {
   "cell_type": "code",
   "execution_count": 15,
   "metadata": {},
   "outputs": [
    {
     "data": {
      "text/html": [
       "<div>\n",
       "<style scoped>\n",
       "    .dataframe tbody tr th:only-of-type {\n",
       "        vertical-align: middle;\n",
       "    }\n",
       "\n",
       "    .dataframe tbody tr th {\n",
       "        vertical-align: top;\n",
       "    }\n",
       "\n",
       "    .dataframe thead th {\n",
       "        text-align: right;\n",
       "    }\n",
       "</style>\n",
       "<table border=\"1\" class=\"dataframe\">\n",
       "  <thead>\n",
       "    <tr style=\"text-align: right;\">\n",
       "      <th></th>\n",
       "      <th>name</th>\n",
       "      <th>score</th>\n",
       "      <th>attempts</th>\n",
       "      <th>qualify</th>\n",
       "    </tr>\n",
       "  </thead>\n",
       "  <tbody>\n",
       "    <tr>\n",
       "      <th>a</th>\n",
       "      <td>Anastasia</td>\n",
       "      <td>625.0</td>\n",
       "      <td>1</td>\n",
       "      <td>yes</td>\n",
       "    </tr>\n",
       "    <tr>\n",
       "      <th>b</th>\n",
       "      <td>Dima</td>\n",
       "      <td>324.0</td>\n",
       "      <td>3</td>\n",
       "      <td>no</td>\n",
       "    </tr>\n",
       "    <tr>\n",
       "      <th>c</th>\n",
       "      <td>Katherine</td>\n",
       "      <td>1089.0</td>\n",
       "      <td>2</td>\n",
       "      <td>yes</td>\n",
       "    </tr>\n",
       "    <tr>\n",
       "      <th>d</th>\n",
       "      <td>James</td>\n",
       "      <td>0.0</td>\n",
       "      <td>3</td>\n",
       "      <td>no</td>\n",
       "    </tr>\n",
       "    <tr>\n",
       "      <th>e</th>\n",
       "      <td>Emily</td>\n",
       "      <td>324.0</td>\n",
       "      <td>2</td>\n",
       "      <td>no</td>\n",
       "    </tr>\n",
       "    <tr>\n",
       "      <th>f</th>\n",
       "      <td>Michael</td>\n",
       "      <td>1600.0</td>\n",
       "      <td>3</td>\n",
       "      <td>yes</td>\n",
       "    </tr>\n",
       "    <tr>\n",
       "      <th>g</th>\n",
       "      <td>Matthew</td>\n",
       "      <td>841.0</td>\n",
       "      <td>1</td>\n",
       "      <td>yes</td>\n",
       "    </tr>\n",
       "    <tr>\n",
       "      <th>h</th>\n",
       "      <td>Laura</td>\n",
       "      <td>0.0</td>\n",
       "      <td>1</td>\n",
       "      <td>no</td>\n",
       "    </tr>\n",
       "    <tr>\n",
       "      <th>i</th>\n",
       "      <td>Kevin</td>\n",
       "      <td>256.0</td>\n",
       "      <td>2</td>\n",
       "      <td>no</td>\n",
       "    </tr>\n",
       "    <tr>\n",
       "      <th>j</th>\n",
       "      <td>Jonas</td>\n",
       "      <td>1444.0</td>\n",
       "      <td>1</td>\n",
       "      <td>yes</td>\n",
       "    </tr>\n",
       "  </tbody>\n",
       "</table>\n",
       "</div>"
      ],
      "text/plain": [
       "        name   score  attempts qualify\n",
       "a  Anastasia   625.0         1     yes\n",
       "b       Dima   324.0         3      no\n",
       "c  Katherine  1089.0         2     yes\n",
       "d      James     0.0         3      no\n",
       "e      Emily   324.0         2      no\n",
       "f    Michael  1600.0         3     yes\n",
       "g    Matthew   841.0         1     yes\n",
       "h      Laura     0.0         1      no\n",
       "i      Kevin   256.0         2      no\n",
       "j      Jonas  1444.0         1     yes"
      ]
     },
     "execution_count": 15,
     "metadata": {},
     "output_type": "execute_result"
    }
   ],
   "source": [
    "import pandas as pd\n",
    "import numpy as np\n",
    "exam_data  = {'name': ['Anastasia', 'Dima', 'Katherine', 'James', 'Emily', 'Michael', 'Matthew', 'Laura', 'Kevin', 'Jonas'],\n",
    "        'score': [12.5, 9, 16.5, np.nan, 9, 20, 14.5, np.nan, 8, 19],\n",
    "        'attempts': [1, 3, 2, 3, 2, 3, 1, 1, 2, 1],\n",
    "        'qualify': ['yes', 'no', 'yes', 'no', 'no', 'yes', 'yes', 'no', 'no', 'yes']}\n",
    "labels = ['a', 'b', 'c', 'd', 'e', 'f', 'g', 'h', 'i', 'j']\n",
    "df = pd.DataFrame(exam_data , index=labels)\n",
    "\n",
    "# xxx fill in the missing codes\n",
    "#df['score'] = df['score'].fillna(0) # replace all th Nan numbers with 0\n",
    "#df['score'] = 2* df['score'] # double the numbers in column 'score'\n",
    "#df['score'] = df['score'] ** 2 # Then, square the numbers in column 'score'\n",
    "df['score'] = (2 * df['score'].fillna(0)) ** 2 # Can do all of this in 1 line\n",
    "df\n",
    "\n",
    "# Match sample output (old version): based on finding transformation via algebra\n",
    "#df1 = pd.DataFrame(exam_data , index=labels)\n",
    "#df1['score'] = (df1['score'].fillna(0) +2) ** 2\n",
    "#df1"
   ]
  },
  {
   "cell_type": "markdown",
   "metadata": {},
   "source": [
    "# The exptected outputs \n",
    "\n",
    "<div class=\"tsp.png\">\n",
    "    <div style=\"float:left;margin-right:5px;\">\n",
    "        <img src=\"dataframe.png\" height=\"250\" width=\"250\"  />\n",
    "        <p style=\"text-align:center;\"> dataframe.png </p>\n",
    "    </div>\n",
    "</div>\n"
   ]
  },
  {
   "cell_type": "markdown",
   "metadata": {},
   "source": [
    "# (4pt)  D.3\n",
    "\n",
    "* In the code snippet below, add the codes to \n",
    "    * print out the row with the highest score\n",
    "    * print out the row with the lowest score\n",
    " "
   ]
  },
  {
   "cell_type": "code",
   "execution_count": 16,
   "metadata": {},
   "outputs": [
    {
     "name": "stdout",
     "output_type": "stream",
     "text": [
      "The row with the highest score: \n",
      "      name  score  attempts qualify\n",
      "f  Michael   20.0         3     yes\n",
      "\n",
      "The row with the lowest score: \n",
      "    name  score  attempts qualify\n",
      "i  Kevin    8.0         2      no\n"
     ]
    }
   ],
   "source": [
    "import pandas as pd\n",
    "import numpy as np\n",
    "exam_data  = {'name': ['Anastasia', 'Dima', 'Katherine', 'James', 'Emily', 'Michael', 'Matthew', 'Laura', 'Kevin', 'Jonas'],\n",
    "        'score': [12.5, 9, 16.5, np.nan, 9, 20, 14.5, np.nan, 8, 19],\n",
    "        'attempts': [1, 3, 2, 3, 2, 3, 1, 1, 2, 1],\n",
    "        'qualify': ['yes', 'no', 'yes', 'no', 'no', 'yes', 'yes', 'no', 'no', 'yes']}\n",
    "labels = ['a', 'b', 'c', 'd', 'e', 'f', 'g', 'h', 'i', 'j']\n",
    "df = pd.DataFrame(exam_data , index=labels)\n",
    "\n",
    "# xxx fill in missing codes here\n",
    "# a = ... \n",
    "# b = ...\n",
    "print (\"The row with the highest score: \")\n",
    "# https://pandas.pydata.org/pandas-docs/stable/reference/api/pandas.DataFrame.idxmax.html\n",
    "a = df.loc[[df['score'].idxmax()]] # Get index of row with max score as a DF\n",
    "print (a)\n",
    "\n",
    "print (\"\\nThe row with the lowest score: \")\n",
    "# https://pandas.pydata.org/pandas-docs/stable/reference/api/pandas.DataFrame.idxmin.html\n",
    "b = df.loc[[df['score'].idxmin()]] # Get index of row with min score as a DF\n",
    "print (b)"
   ]
  },
  {
   "cell_type": "raw",
   "metadata": {},
   "source": [
    "# Expected Output:\n",
    "\n",
    "The row with the highest score: \n",
    "      name  score  attempts qualify\n",
    "f  Michael   20.0         3     yes\n",
    "\n",
    "The row with the lowest score: \n",
    "    name  score  attempts qualify\n",
    "i  Kevin    8.0         2      no"
   ]
  },
  {
   "cell_type": "markdown",
   "metadata": {},
   "source": [
    "# (1pt) D.4\n",
    "\n",
    "* In the code snippet below, add the codes to \n",
    "    * convert dataframe df back to a 2-dimensional list "
   ]
  },
  {
   "cell_type": "code",
   "execution_count": 17,
   "metadata": {},
   "outputs": [
    {
     "name": "stdout",
     "output_type": "stream",
     "text": [
      "True\n"
     ]
    }
   ],
   "source": [
    "'''\n",
    "# Old implementation\n",
    "    b[k] = []\n",
    "    for j in df[k]:\n",
    "        b[k].append(j)\n",
    "'''\n",
    "# xxx you can only add codes where marked xxx\n",
    "# xxx you cannot delete or alter any portions of the given code snippet\n",
    "a = {'Product': ['Tablet', 'iPhone', 'Laptop', 'Monitor'], 'Price': [250, 800, 1200, 300]}\n",
    "df = pd.DataFrame(a)\n",
    "\n",
    "b = {}\n",
    "for k in df.columns:\n",
    "    b[k] = df[k].tolist() # Convert column (Series object) to list\n",
    "print (a==b)"
   ]
  },
  {
   "cell_type": "markdown",
   "metadata": {},
   "source": [
    "# Expected output\n",
    "\n",
    "True"
   ]
  }
 ],
 "metadata": {
  "kernelspec": {
   "display_name": "Python 3",
   "language": "python",
   "name": "python3"
  },
  "language_info": {
   "codemirror_mode": {
    "name": "ipython",
    "version": 3
   },
   "file_extension": ".py",
   "mimetype": "text/x-python",
   "name": "python",
   "nbconvert_exporter": "python",
   "pygments_lexer": "ipython3",
   "version": "3.8.3"
  }
 },
 "nbformat": 4,
 "nbformat_minor": 2
}
